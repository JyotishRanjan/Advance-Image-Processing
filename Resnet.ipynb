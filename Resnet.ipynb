{
  "nbformat": 4,
  "nbformat_minor": 0,
  "metadata": {
    "colab": {
      "provenance": [],
      "gpuType": "T4"
    },
    "kernelspec": {
      "name": "python3",
      "display_name": "Python 3"
    },
    "language_info": {
      "name": "python"
    },
    "accelerator": "GPU"
  },
  "cells": [
    {
      "cell_type": "markdown",
      "source": [
        "# Question 2: Fully Convolutional Networks"
      ],
      "metadata": {
        "id": "4Y8vugEObbjs"
      }
    },
    {
      "cell_type": "code",
      "execution_count": null,
      "metadata": {
        "id": "exTVBMnWeJQ4"
      },
      "outputs": [],
      "source": [
        "# PyTorch and related libraries\n",
        "import torch\n",
        "import torch.nn as nn\n",
        "from torch import optim\n",
        "import torch.nn.functional as F\n",
        "from torch.nn import Module, Sequential, Conv2d, UpsamplingBilinear2d\n",
        "from torch.utils.data import DataLoader, Dataset, TensorDataset\n",
        "\n",
        "# torchvision for computer vision tasks\n",
        "import torchvision\n",
        "import torchvision.transforms as transforms\n",
        "import torchvision.models as models\n",
        "\n",
        "# skimage for image processing\n",
        "from skimage import io, color\n",
        "from skimage.transform import resize\n",
        "from skimage.io import imread\n",
        "\n",
        "# numpy for numerical operations\n",
        "import numpy as np\n",
        "\n",
        "# json for handling JSON data\n",
        "import json\n",
        "\n",
        "# os for operating system related tasks\n",
        "import os\n",
        "\n",
        "# matplotlib for plotting\n",
        "import matplotlib.pyplot as plt\n",
        "\n",
        "# scipy for scientific computing\n",
        "import scipy\n",
        "from scipy.spatial import KDTree\n",
        "\n",
        "# sklearn for machine learning and data analysis\n",
        "from sklearn import metrics\n",
        "from sklearn.model_selection import train_test_split\n",
        "\n",
        "# tqdm for progress bars\n",
        "from tqdm import tqdm\n",
        "\n",
        "# warnings for handling warnings\n",
        "import warnings\n",
        "warnings.filterwarnings('ignore')\n",
        "\n",
        "from torchsummary import summary"
      ]
    },
    {
      "cell_type": "markdown",
      "source": [
        "## Data Loading and Pre-processing:"
      ],
      "metadata": {
        "id": "BTUfaW_KfT8j"
      }
    },
    {
      "cell_type": "code",
      "source": [
        "from google.colab import drive\n",
        "drive.mount('/content/drive')  # Mount Google Drive\n",
        "\n",
        "# Unzip Dataset\n",
        "!unzip '/content/drive/MyDrive/dataset.zip'  # Unzip the dataset from Google Drive\n",
        "\n",
        "def get_files(path):\n",
        "    files = os.listdir(path)  # List all files in the directory\n",
        "    files = [os.path.join(path, f) for f in files]  # Join the path with each file name\n",
        "    return files\n",
        "\n",
        "def create_dataset(path, image_shape):\n",
        "    images_filepath = os.path.join(path, 'images')  # Path to images\n",
        "    masks_filepath = os.path.join(path, 'masks')  # Path to masks\n",
        "\n",
        "    images_filepaths = get_files(images_filepath)  # Get all image file paths\n",
        "    masks_filepaths = get_files(masks_filepath)  # Get all mask file paths\n",
        "\n",
        "    images = []\n",
        "    masks = []\n",
        "\n",
        "    # Opening Label2Cmap JSON file\n",
        "    with open('/content/dataset/label2cmap.json') as json_file:\n",
        "        label2cmap = json.load(json_file)  # Load the JSON file\n",
        "\n",
        "    color_map = [label2cmap[labels] for labels in label2cmap]  # Create a color map\n",
        "\n",
        "    color_tree = KDTree(color_map.copy())  # Create a KDTree for efficient nearest neighbor search\n",
        "\n",
        "    for image_path in images_filepaths:\n",
        "        images.append(resize(imread(image_path), image_shape, anti_aliasing = False))  # Resize and append each image\n",
        "\n",
        "    for mask_path in masks_filepaths:\n",
        "        mask = resize(imread(mask_path), image_shape, anti_aliasing = False)  # Resize each mask\n",
        "        mask_labeled = color_tree.query(mask*255)[1]  # Find the nearest color in the color map for each pixel\n",
        "        masks.append(np.eye(len(color_map))[mask_labeled])  # One-hot encode the labels\n",
        "\n",
        "    print(f'{len(images)} files found')\n",
        "\n",
        "    return images,masks  # Return the images and masks\n",
        "\n",
        "images, masks = create_dataset('/content/dataset', image_shape = (224,224))  # Create the dataset\n",
        "\n",
        "train_images, test_images, train_masks, test_masks = train_test_split(images,masks,test_size = 0.2)  # Split the dataset into training and testing sets\n",
        "\n",
        "train_images = np.array(train_images)\n",
        "train_masks = np.array(train_masks)\n",
        "test_images = np.array(test_images)\n",
        "test_masks = np.array(test_masks)"
      ],
      "metadata": {
        "id": "qJuT6Fjrfizu",
        "colab": {
          "base_uri": "https://localhost:8080/"
        },
        "outputId": "fa4457ae-bf0c-4198-aadc-a76c6c85c070"
      },
      "execution_count": null,
      "outputs": [
        {
          "output_type": "stream",
          "name": "stdout",
          "text": [
            "Mounted at /content/drive\n",
            "Archive:  /content/drive/MyDrive/dataset.zip\n",
            "   creating: dataset/\n",
            "  inflating: dataset/.DS_Store       \n",
            "  inflating: __MACOSX/dataset/._.DS_Store  \n",
            "   creating: dataset/images/\n",
            "  inflating: dataset/label2cmap.json  \n",
            "  inflating: dataset/README.md       \n",
            "  inflating: dataset/train_test_split.json  \n",
            "   creating: dataset/masks/\n",
            "  inflating: dataset/images/2022-08-24 (274).png  \n",
            "  inflating: dataset/images/2022-08-24 (331).png  \n",
            "  inflating: dataset/images/2022-08-24 (223).png  \n",
            "  inflating: dataset/images/2022-08-24 (48).png  \n",
            "  inflating: dataset/images/2022-08-24 (235).png  \n",
            "  inflating: dataset/images/2022-08-24 (262).png  \n",
            "  inflating: dataset/images/2022-08-24 (327).png  \n",
            "  inflating: dataset/images/2022-08-24 (130).png  \n",
            "  inflating: dataset/images/2022-08-24 (72).png  \n",
            "  inflating: dataset/images/2022-08-24 (219).png  \n",
            "  inflating: dataset/images/2022-08-24 (167).png  \n",
            "  inflating: dataset/images/2022-08-24 (25).png  \n",
            "  inflating: dataset/images/2022-08-24 (171).png  \n",
            "  inflating: dataset/images/2022-08-24 (258).png  \n",
            "  inflating: dataset/images/2022-08-24 (126).png  \n",
            "  inflating: dataset/images/2022-08-24 (64).png  \n",
            "  inflating: dataset/images/2022-08-24 (13).png  \n",
            "  inflating: dataset/images/2022-08-24 (297).png  \n",
            "  inflating: dataset/images/2022-08-24 (151).png  \n",
            "  inflating: dataset/images/2022-08-24 (44).png  \n",
            "  inflating: dataset/images/2022-08-24 (106).png  \n",
            "  inflating: dataset/images/2022-08-24 (239).png  \n",
            "  inflating: dataset/images/2022-08-24 (52).png  \n",
            "  inflating: dataset/images/2022-08-24 (281).png  \n",
            "  inflating: dataset/images/2022-08-24 (6).png  \n",
            "  inflating: dataset/images/2022-08-24 (147).png  \n",
            "  inflating: dataset/images/2022-08-24 (350).png  \n",
            "  inflating: dataset/images/2022-08-24 (91).png  \n",
            "  inflating: dataset/images/2022-08-24 (215).png  \n",
            "  inflating: dataset/images/2022-08-24 (29).png  \n",
            "  inflating: dataset/images/2022-08-24 (307).png  \n",
            "  inflating: dataset/images/2022-08-24 (242).png  \n",
            "  inflating: dataset/images/2022-08-24 (184).png  \n",
            "  inflating: dataset/images/2022-08-24 (311).png  \n",
            "  inflating: dataset/images/2022-08-24 (192).png  \n",
            "  inflating: dataset/images/2022-08-24 (68).png  \n",
            "  inflating: dataset/images/2022-08-24 (346).png  \n",
            "  inflating: dataset/images/2022-08-24 (203).png  \n",
            "  inflating: dataset/images/2022-08-24 (87).png  \n",
            "  inflating: dataset/images/2022-08-24 (69).png  \n",
            "  inflating: dataset/images/2022-08-24 (347).png  \n",
            "  inflating: dataset/images/2022-08-24 (202).png  \n",
            "  inflating: dataset/images/2022-08-24 (193).png  \n",
            "  inflating: dataset/images/2022-08-24 (310).png  \n",
            "  inflating: dataset/images/2022-08-24 (185).png  \n",
            "  inflating: dataset/images/2022-08-24 (28).png  \n",
            "  inflating: dataset/images/2022-08-24 (306).png  \n",
            "  inflating: dataset/images/2022-08-24 (243).png  \n",
            "  inflating: dataset/images/2022-08-24 (90).png  \n",
            "  inflating: dataset/images/2022-08-24 (214).png  \n",
            "  inflating: dataset/images/2022-08-24 (7).png  \n",
            "  inflating: dataset/images/2022-08-24 (280).png  \n",
            "  inflating: dataset/images/2022-08-24 (111).png  \n",
            "  inflating: dataset/images/2022-08-24 (238).png  \n",
            "  inflating: dataset/images/2022-08-24 (53).png  \n",
            "  inflating: dataset/images/2022-08-24 (107).png  \n",
            "  inflating: dataset/images/2022-08-24 (279).png  \n",
            "  inflating: dataset/images/2022-08-24 (296).png  \n",
            "  inflating: dataset/images/2022-08-24 (65).png  \n",
            "  inflating: dataset/images/2022-08-24 (127).png  \n",
            "  inflating: dataset/images/2022-08-24 (32).png  \n",
            "  inflating: dataset/images/2022-08-24 (259).png  \n",
            "  inflating: dataset/images/2022-08-24 (170).png  \n",
            "  inflating: dataset/images/2022-08-24 (24).png  \n",
            "  inflating: dataset/images/2022-08-24 (166).png  \n",
            "  inflating: dataset/images/2022-08-24 (189).png  \n",
            "  inflating: dataset/images/2022-08-24 (73).png  \n",
            "  inflating: dataset/images/2022-08-24 (218).png  \n",
            "  inflating: dataset/images/2022-08-24 (131).png  \n",
            "  inflating: dataset/images/2022-08-24 (263).png  \n",
            "  inflating: dataset/images/2022-08-24 (326).png  \n",
            "  inflating: dataset/images/2022-08-24 (234).png  \n",
            "  inflating: dataset/images/2022-08-24 (222).png  \n",
            "  inflating: dataset/images/2022-08-24 (49).png  \n",
            "  inflating: dataset/images/2022-08-24 (275).png  \n",
            "  inflating: dataset/images/2022-08-24 (330).png  \n",
            "  inflating: dataset/images/2022-08-24 (291).png  \n",
            "  inflating: dataset/images/2022-08-24 (157).png  \n",
            "  inflating: dataset/images/2022-08-24 (229).png  \n",
            "  inflating: dataset/images/2022-08-24 (42).png  \n",
            "  inflating: dataset/images/2022-08-24 (100).png  \n",
            "  inflating: dataset/images/2022-08-24 (54).png  \n",
            "  inflating: dataset/images/2022-08-24 (268).png  \n",
            "  inflating: dataset/images/2022-08-24 (287).png  \n",
            "  inflating: dataset/images/2022-08-24 (78).png  \n",
            "  inflating: dataset/images/2022-08-24 (213).png  \n",
            "  inflating: dataset/images/2022-08-24 (97).png  \n",
            "  inflating: dataset/images/2022-08-24 (301).png  \n",
            "  inflating: dataset/images/2022-08-24 (244).png  \n",
            "  inflating: dataset/images/2022-08-24 (182).png  \n",
            "  inflating: dataset/images/2022-08-24 (39).png  \n",
            "  inflating: dataset/images/2022-08-24 (317).png  \n",
            "  inflating: dataset/images/2022-08-24 (194).png  \n",
            "  inflating: dataset/images/2022-08-24 (340).png  \n",
            "  inflating: dataset/images/2022-08-24 (81).png  \n",
            "  inflating: dataset/images/2022-08-24 (205).png  \n",
            "  inflating: dataset/images/2022-08-24 (272).png  \n",
            "  inflating: dataset/images/2022-08-24 (19).png  \n",
            "  inflating: dataset/images/2022-08-24 (337).png  \n",
            "  inflating: dataset/images/2022-08-24 (225).png  \n",
            "  inflating: dataset/images/2022-08-24 (233).png  \n",
            "  inflating: dataset/images/2022-08-24 (58).png  \n",
            "  inflating: dataset/images/2022-08-24 (264).png  \n",
            "  inflating: dataset/images/2022-08-24 (321).png  \n",
            "  inflating: dataset/images/2022-08-24 (136).png  \n",
            "  inflating: dataset/images/2022-08-24 (74).png  \n",
            "  inflating: dataset/images/2022-08-24 (161).png  \n",
            "  inflating: dataset/images/2022-08-24 (23).png  \n",
            "  inflating: dataset/images/2022-08-24 (177).png  \n",
            "  inflating: dataset/images/2022-08-24 (198).png  \n",
            "  inflating: dataset/images/2022-08-24 (35).png  \n",
            "  inflating: dataset/images/2022-08-24 (120).png  \n",
            "  inflating: dataset/images/2022-08-24 (62).png  \n",
            "  inflating: dataset/images/2022-08-24 (209).png  \n",
            "  inflating: dataset/images/2022-08-24 (63).png  \n",
            "  inflating: dataset/images/2022-08-24 (208).png  \n",
            "  inflating: dataset/images/2022-08-24 (121).png  \n",
            "  inflating: dataset/images/2022-08-24 (34).png  \n",
            "  inflating: dataset/images/2022-08-24 (176).png  \n",
            "  inflating: dataset/images/2022-08-24 (199).png  \n",
            "  inflating: dataset/images/2022-08-24 (22).png  \n",
            "  inflating: dataset/images/2022-08-24 (160).png  \n",
            "  inflating: dataset/images/2022-08-24 (137).png  \n",
            "  inflating: dataset/images/2022-08-24 (265).png  \n",
            "  inflating: dataset/images/2022-08-24 (232).png  \n",
            "  inflating: dataset/images/2022-08-24 (59).png  \n",
            "  inflating: dataset/images/2022-08-24 (224).png  \n",
            "  inflating: dataset/images/2022-08-24 (273).png  \n",
            "  inflating: dataset/images/2022-08-24 (18).png  \n",
            "  inflating: dataset/images/2022-08-24 (336).png  \n",
            "  inflating: dataset/images/2022-08-24 (341).png  \n",
            "  inflating: dataset/images/2022-08-24 (80).png  \n",
            "  inflating: dataset/images/2022-08-24 (204).png  \n",
            "  inflating: dataset/images/2022-08-24 (195).png  \n",
            "  inflating: dataset/images/2022-08-24 (38).png  \n",
            "  inflating: dataset/images/2022-08-24 (316).png  \n",
            "  inflating: dataset/images/2022-08-24 (183).png  \n",
            "  inflating: dataset/images/2022-08-24 (300).png  \n",
            "  inflating: dataset/images/2022-08-24 (245).png  \n",
            "  inflating: dataset/images/2022-08-24 (212).png  \n",
            "  inflating: dataset/images/2022-08-24 (269).png  \n",
            "  inflating: dataset/images/2022-08-24 (286).png  \n",
            "  inflating: dataset/images/2022-08-24 (117).png  \n",
            "  inflating: dataset/images/2022-08-24 (55).png  \n",
            "  inflating: dataset/images/2022-08-24 (101).png  \n",
            "  inflating: dataset/images/2022-08-24 (228).png  \n",
            "  inflating: dataset/images/2022-08-24 (43).png  \n",
            "  inflating: dataset/images/2022-08-24 (290).png  \n",
            "  inflating: dataset/images/2022-08-24 (14).png  \n",
            "  inflating: dataset/images/2022-08-24 (207).png  \n",
            "  inflating: dataset/images/2022-08-24 (83).png  \n",
            "  inflating: dataset/images/2022-08-24 (342).png  \n",
            "  inflating: dataset/images/2022-08-24 (196).png  \n",
            "  inflating: dataset/images/2022-08-24 (179).png  \n",
            "  inflating: dataset/images/2022-08-24 (315).png  \n",
            "  inflating: dataset/images/2022-08-24 (180).png  \n",
            "  inflating: dataset/images/2022-08-24 (303).png  \n",
            "  inflating: dataset/images/2022-08-24 (138).png  \n",
            "  inflating: dataset/images/2022-08-24 (211).png  \n",
            "  inflating: dataset/images/2022-08-24 (285).png  \n",
            "  inflating: dataset/images/2022-08-24 (114).png  \n",
            "  inflating: dataset/images/2022-08-24 (56).png  \n",
            "  inflating: dataset/images/2022-08-24 (102).png  \n",
            "  inflating: dataset/images/2022-08-24 (40).png  \n",
            "  inflating: dataset/images/2022-08-24 (155).png  \n",
            "  inflating: dataset/images/2022-08-24 (17).png  \n",
            "  inflating: dataset/images/2022-08-24 (339).png  \n",
            "  inflating: dataset/images/2022-08-24 (293).png  \n",
            "  inflating: dataset/images/2022-08-24 (60).png  \n",
            "  inflating: dataset/images/2022-08-24 (37).png  \n",
            "  inflating: dataset/images/2022-08-24 (175).png  \n",
            "  inflating: dataset/images/2022-08-24 (21).png  \n",
            "  inflating: dataset/images/2022-08-24 (163).png  \n",
            "  inflating: dataset/images/2022-08-24 (99).png  \n",
            "  inflating: dataset/images/2022-08-24 (76).png  \n",
            "  inflating: dataset/images/2022-08-24 (134).png  \n",
            "  inflating: dataset/images/2022-08-24 (323).png  \n",
            "  inflating: dataset/images/2022-08-24 (289).png  \n",
            "  inflating: dataset/images/2022-08-24 (266).png  \n",
            "  inflating: dataset/images/2022-08-24 (231).png  \n",
            "  inflating: dataset/images/2022-08-24 (118).png  \n",
            "  inflating: dataset/images/2022-08-24 (227).png  \n",
            "  inflating: dataset/images/2022-08-24 (335).png  \n",
            "  inflating: dataset/images/2022-08-24 (270).png  \n",
            "  inflating: dataset/images/2022-08-24 (159).png  \n",
            "  inflating: dataset/images/2022-08-24 (158).png  \n",
            "  inflating: dataset/images/2022-08-24 (334).png  \n",
            "  inflating: dataset/images/2022-08-24 (271).png  \n",
            "  inflating: dataset/images/2022-08-24 (226).png  \n",
            "  inflating: dataset/images/2022-08-24 (119).png  \n",
            "  inflating: dataset/images/2022-08-24 (230).png  \n",
            "  inflating: dataset/images/2022-08-24 (322).png  \n",
            "  inflating: dataset/images/2022-08-24 (288).png  \n",
            "  inflating: dataset/images/2022-08-24 (267).png  \n",
            "  inflating: dataset/images/2022-08-24 (135).png  \n",
            "  inflating: dataset/images/2022-08-24 (98).png  \n",
            "  inflating: dataset/images/2022-08-24 (77).png  \n",
            "  inflating: dataset/images/2022-08-24 (162).png  \n",
            "  inflating: dataset/images/2022-08-24 (36).png  \n",
            "  inflating: dataset/images/2022-08-24 (61).png  \n",
            "  inflating: dataset/images/2022-08-24 (16).png  \n",
            "  inflating: dataset/images/2022-08-24 (338).png  \n",
            "  inflating: dataset/images/2022-08-24 (292).png  \n",
            "  inflating: dataset/images/2022-08-24 (154).png  \n",
            "  inflating: dataset/images/2022-08-24 (41).png  \n",
            "  inflating: dataset/images/2022-08-24 (57).png  \n",
            "  inflating: dataset/images/2022-08-24 (115).png  \n",
            "  inflating: dataset/images/2022-08-24 (284).png  \n",
            "  inflating: dataset/images/2022-08-24 (351) - Copy.png  \n",
            "  inflating: dataset/images/2022-08-24 (142).png  \n",
            "  inflating: dataset/images/2022-08-24 (94).png  \n",
            "  inflating: dataset/images/2022-08-24 (210).png  \n",
            "  inflating: dataset/images/2022-08-24 (139).png  \n",
            "  inflating: dataset/images/2022-08-24 (181).png  \n",
            "  inflating: dataset/images/2022-08-24 (197).png  \n",
            "  inflating: dataset/images/2022-08-24 (178).png  \n",
            "  inflating: dataset/images/2022-08-24 (206).png  \n",
            "  inflating: dataset/images/2022-08-24 (82).png  \n",
            "  inflating: dataset/images/2022-08-24 (343).png  \n",
            "  inflating: dataset/images/2022-08-24 (89).png  \n",
            "  inflating: dataset/images/2022-08-24 (66).png  \n",
            "  inflating: dataset/images/2022-08-24 (348).png  \n",
            "  inflating: dataset/images/2022-08-24 (124).png  \n",
            "  inflating: dataset/images/2022-08-24 (173).png  \n",
            "  inflating: dataset/images/2022-08-24 (309).png  \n",
            "  inflating: dataset/images/2022-08-24 (165).png  \n",
            "  inflating: dataset/images/2022-08-24 (70).png  \n",
            "  inflating: dataset/images/2022-08-24 (132).png  \n",
            "  inflating: dataset/images/2022-08-24 (325).png  \n",
            "  inflating: dataset/images/2022-08-24 (260).png  \n",
            "  inflating: dataset/images/2022-08-24 (149).png  \n",
            "  inflating: dataset/images/2022-08-24 (237).png  \n",
            "  inflating: dataset/images/2022-08-24 (221).png  \n",
            "  inflating: dataset/images/2022-08-24 (108).png  \n",
            "  inflating: dataset/images/2022-08-24 (299).png  \n",
            "  inflating: dataset/images/2022-08-24 (333).png  \n",
            "  inflating: dataset/images/2022-08-24 (276).png  \n",
            "  inflating: dataset/images/2022-08-24 (128).png  \n",
            "  inflating: dataset/images/2022-08-24 (85).png  \n",
            "  inflating: dataset/images/2022-08-24 (201).png  \n",
            "  inflating: dataset/images/2022-08-24 (344).png  \n",
            "  inflating: dataset/images/2022-08-24 (190).png  \n",
            "  inflating: dataset/images/2022-08-24 (186).png  \n",
            "  inflating: dataset/images/2022-08-24 (169).png  \n",
            "  inflating: dataset/images/2022-08-24 (240).png  \n",
            "  inflating: dataset/images/2022-08-24 (305).png  \n",
            "  inflating: dataset/images/2022-08-24 (217).png  \n",
            "  inflating: dataset/images/2022-08-24 (93).png  \n",
            "  inflating: dataset/images/2022-08-24 (283).png  \n",
            "  inflating: dataset/images/2022-08-24 (329).png  \n",
            "  inflating: dataset/images/2022-08-24 (112).png  \n",
            "  inflating: dataset/images/2022-08-24 (50).png  \n",
            "  inflating: dataset/images/2022-08-24 (104).png  \n",
            "  inflating: dataset/images/2022-08-24 (153).png  \n",
            "  inflating: dataset/images/2022-08-24 (295).png  \n",
            "  inflating: dataset/images/2022-08-24 (11).png  \n",
            "  inflating: dataset/images/2022-08-24 (294).png  \n",
            "  inflating: dataset/images/2022-08-24 (10).png  \n",
            "  inflating: dataset/images/2022-08-24 (152).png  \n",
            "  inflating: dataset/images/2022-08-24 (47).png  \n",
            "  inflating: dataset/images/2022-08-24 (105).png  \n",
            "  inflating: dataset/images/2022-08-24 (51).png  \n",
            "  inflating: dataset/images/2022-08-24 (113).png  \n",
            "  inflating: dataset/images/2022-08-24 (282).png  \n",
            "  inflating: dataset/images/2022-08-24 (328).png  \n",
            "  inflating: dataset/images/2022-08-24 (144).png  \n",
            "  inflating: dataset/images/2022-08-24 (5).png  \n",
            "  inflating: dataset/images/2022-08-24 (216).png  \n",
            "  inflating: dataset/images/2022-08-24 (92).png  \n",
            "  inflating: dataset/images/2022-08-24 (241).png  \n",
            "  inflating: dataset/images/2022-08-24 (304).png  \n",
            "  inflating: dataset/images/2022-08-24 (187).png  \n",
            "  inflating: dataset/images/2022-08-24 (168).png  \n",
            "  inflating: dataset/images/2022-08-24 (257).png  \n",
            "  inflating: dataset/images/2022-08-24 (312).png  \n",
            "  inflating: dataset/images/2022-08-24 (191).png  \n",
            "  inflating: dataset/images/2022-08-24 (84).png  \n",
            "  inflating: dataset/images/2022-08-24 (200).png  \n",
            "  inflating: dataset/images/2022-08-24 (129).png  \n",
            "  inflating: dataset/images/2022-08-24 (298).png  \n",
            "  inflating: dataset/images/2022-08-24 (332).png  \n",
            "  inflating: dataset/images/2022-08-24 (277).png  \n",
            "  inflating: dataset/images/2022-08-24 (220).png  \n",
            "  inflating: dataset/images/2022-08-24 (236).png  \n",
            "  inflating: dataset/images/2022-08-24 (148).png  \n",
            "  inflating: dataset/images/2022-08-24 (324).png  \n",
            "  inflating: dataset/images/2022-08-24 (261).png  \n",
            "  inflating: dataset/images/2022-08-24 (133).png  \n",
            "  inflating: dataset/images/2022-08-24 (71).png  \n",
            "  inflating: dataset/images/2022-08-24 (164).png  \n",
            "  inflating: dataset/images/2022-08-24 (26).png  \n",
            "  inflating: dataset/images/2022-08-24 (308).png  \n",
            "  inflating: dataset/images/2022-08-24 (172).png  \n",
            "  inflating: dataset/images/2022-08-24 (30).png  \n",
            "  inflating: dataset/images/2022-08-24 (125).png  \n",
            "  inflating: dataset/images/2022-08-24 (88).png  \n",
            "  inflating: dataset/images/2022-08-24 (67).png  \n",
            "  inflating: dataset/images/2022-08-24 (349).png  \n",
            "  inflating: dataset/masks/2022-08-24 (274).png  \n",
            "  inflating: dataset/masks/2022-08-24 (331).png  \n",
            "  inflating: dataset/masks/2022-08-24 (223).png  \n",
            "  inflating: dataset/masks/2022-08-24 (48).png  \n",
            "  inflating: dataset/masks/2022-08-24 (235).png  \n",
            "  inflating: dataset/masks/2022-08-24 (262).png  \n",
            "  inflating: dataset/masks/2022-08-24 (327).png  \n",
            "  inflating: dataset/masks/2022-08-24 (130).png  \n",
            "  inflating: dataset/masks/2022-08-24 (72).png  \n",
            "  inflating: dataset/masks/2022-08-24 (219).png  \n",
            "  inflating: dataset/masks/2022-08-24 (167).png  \n",
            "  inflating: dataset/masks/2022-08-24 (25).png  \n",
            "  inflating: dataset/masks/2022-08-24 (171).png  \n",
            "  inflating: dataset/masks/2022-08-24 (258).png  \n",
            "  inflating: dataset/masks/2022-08-24 (126).png  \n",
            "  inflating: dataset/masks/2022-08-24 (64).png  \n",
            "  inflating: dataset/masks/2022-08-24 (13).png  \n",
            "  inflating: dataset/masks/2022-08-24 (297).png  \n",
            "  inflating: dataset/masks/2022-08-24 (151).png  \n",
            "  inflating: dataset/masks/2022-08-24 (44).png  \n",
            "  inflating: dataset/masks/2022-08-24 (106).png  \n",
            "  inflating: dataset/masks/2022-08-24 (239).png  \n",
            "  inflating: dataset/masks/2022-08-24 (52).png  \n",
            "  inflating: dataset/masks/2022-08-24 (281).png  \n",
            "  inflating: dataset/masks/2022-08-24 (6).png  \n",
            "  inflating: dataset/masks/2022-08-24 (147).png  \n",
            "  inflating: dataset/masks/2022-08-24 (350).png  \n",
            "  inflating: dataset/masks/2022-08-24 (91).png  \n",
            "  inflating: dataset/masks/2022-08-24 (215).png  \n",
            "  inflating: dataset/masks/2022-08-24 (29).png  \n",
            "  inflating: dataset/masks/2022-08-24 (307).png  \n",
            "  inflating: dataset/masks/2022-08-24 (242).png  \n",
            "  inflating: dataset/masks/2022-08-24 (184).png  \n",
            "  inflating: dataset/masks/2022-08-24 (311).png  \n",
            "  inflating: dataset/masks/2022-08-24 (192).png  \n",
            "  inflating: dataset/masks/2022-08-24 (68).png  \n",
            "  inflating: dataset/masks/2022-08-24 (346).png  \n",
            "  inflating: dataset/masks/2022-08-24 (203).png  \n",
            "  inflating: dataset/masks/2022-08-24 (87).png  \n",
            "  inflating: dataset/masks/2022-08-24 (69).png  \n",
            "  inflating: dataset/masks/2022-08-24 (347).png  \n",
            "  inflating: dataset/masks/2022-08-24 (202).png  \n",
            "  inflating: dataset/masks/2022-08-24 (193).png  \n",
            "  inflating: dataset/masks/2022-08-24 (310).png  \n",
            "  inflating: dataset/masks/2022-08-24 (185).png  \n",
            "  inflating: dataset/masks/2022-08-24 (28).png  \n",
            "  inflating: dataset/masks/2022-08-24 (306).png  \n",
            "  inflating: dataset/masks/2022-08-24 (243).png  \n",
            "  inflating: dataset/masks/2022-08-24 (90).png  \n",
            "  inflating: dataset/masks/2022-08-24 (214).png  \n",
            "  inflating: dataset/masks/2022-08-24 (7).png  \n",
            "  inflating: dataset/masks/2022-08-24 (280).png  \n",
            "  inflating: dataset/masks/2022-08-24 (111).png  \n",
            "  inflating: dataset/masks/2022-08-24 (238).png  \n",
            "  inflating: dataset/masks/2022-08-24 (53).png  \n",
            "  inflating: dataset/masks/2022-08-24 (107).png  \n",
            "  inflating: dataset/masks/2022-08-24 (279).png  \n",
            "  inflating: dataset/masks/2022-08-24 (296).png  \n",
            "  inflating: dataset/masks/2022-08-24 (65).png  \n",
            "  inflating: dataset/masks/2022-08-24 (127).png  \n",
            "  inflating: dataset/masks/2022-08-24 (32).png  \n",
            "  inflating: dataset/masks/2022-08-24 (259).png  \n",
            "  inflating: dataset/masks/2022-08-24 (170).png  \n",
            "  inflating: dataset/masks/2022-08-24 (24).png  \n",
            "  inflating: dataset/masks/2022-08-24 (166).png  \n",
            "  inflating: dataset/masks/2022-08-24 (189).png  \n",
            "  inflating: dataset/masks/2022-08-24 (73).png  \n",
            "  inflating: dataset/masks/2022-08-24 (218).png  \n",
            "  inflating: dataset/masks/2022-08-24 (131).png  \n",
            "  inflating: dataset/masks/2022-08-24 (263).png  \n",
            "  inflating: dataset/masks/2022-08-24 (326).png  \n",
            "  inflating: dataset/masks/2022-08-24 (234).png  \n",
            "  inflating: dataset/masks/2022-08-24 (222).png  \n",
            "  inflating: dataset/masks/2022-08-24 (49).png  \n",
            "  inflating: dataset/masks/2022-08-24 (275).png  \n",
            "  inflating: dataset/masks/2022-08-24 (330).png  \n",
            "  inflating: dataset/masks/2022-08-24 (291).png  \n",
            "  inflating: dataset/masks/2022-08-24 (157).png  \n",
            "  inflating: dataset/masks/2022-08-24 (229).png  \n",
            "  inflating: dataset/masks/2022-08-24 (42).png  \n",
            "  inflating: dataset/masks/2022-08-24 (100).png  \n",
            "  inflating: dataset/masks/2022-08-24 (54).png  \n",
            "  inflating: dataset/masks/2022-08-24 (268).png  \n",
            "  inflating: dataset/masks/2022-08-24 (287).png  \n",
            "  inflating: dataset/masks/2022-08-24 (78).png  \n",
            "  inflating: dataset/masks/2022-08-24 (213).png  \n",
            "  inflating: dataset/masks/2022-08-24 (97).png  \n",
            "  inflating: dataset/masks/2022-08-24 (301).png  \n",
            "  inflating: dataset/masks/2022-08-24 (244).png  \n",
            "  inflating: dataset/masks/2022-08-24 (182).png  \n",
            "  inflating: dataset/masks/2022-08-24 (39).png  \n",
            "  inflating: dataset/masks/2022-08-24 (317).png  \n",
            "  inflating: dataset/masks/2022-08-24 (194).png  \n",
            "  inflating: dataset/masks/2022-08-24 (340).png  \n",
            "  inflating: dataset/masks/2022-08-24 (81).png  \n",
            "  inflating: dataset/masks/2022-08-24 (205).png  \n",
            "  inflating: dataset/masks/2022-08-24 (272).png  \n",
            "  inflating: dataset/masks/2022-08-24 (19).png  \n",
            "  inflating: dataset/masks/2022-08-24 (337).png  \n",
            "  inflating: dataset/masks/2022-08-24 (225).png  \n",
            "  inflating: dataset/masks/2022-08-24 (233).png  \n",
            "  inflating: dataset/masks/2022-08-24 (58).png  \n",
            "  inflating: dataset/masks/2022-08-24 (264).png  \n",
            "  inflating: dataset/masks/2022-08-24 (321).png  \n",
            "  inflating: dataset/masks/2022-08-24 (136).png  \n",
            "  inflating: dataset/masks/2022-08-24 (74).png  \n",
            "  inflating: dataset/masks/2022-08-24 (161).png  \n",
            "  inflating: dataset/masks/2022-08-24 (23).png  \n",
            "  inflating: dataset/masks/2022-08-24 (177).png  \n",
            "  inflating: dataset/masks/2022-08-24 (198).png  \n",
            "  inflating: dataset/masks/2022-08-24 (35).png  \n",
            "  inflating: dataset/masks/2022-08-24 (120).png  \n",
            "  inflating: dataset/masks/2022-08-24 (62).png  \n",
            "  inflating: dataset/masks/2022-08-24 (209).png  \n",
            "  inflating: dataset/masks/2022-08-24 (63).png  \n",
            "  inflating: dataset/masks/2022-08-24 (208).png  \n",
            "  inflating: dataset/masks/2022-08-24 (121).png  \n",
            "  inflating: dataset/masks/2022-08-24 (34).png  \n",
            "  inflating: dataset/masks/2022-08-24 (176).png  \n",
            "  inflating: dataset/masks/2022-08-24 (199).png  \n",
            "  inflating: dataset/masks/2022-08-24 (22).png  \n",
            "  inflating: dataset/masks/2022-08-24 (160).png  \n",
            "  inflating: dataset/masks/2022-08-24 (137).png  \n",
            "  inflating: dataset/masks/2022-08-24 (265).png  \n",
            "  inflating: dataset/masks/2022-08-24 (232).png  \n",
            "  inflating: dataset/masks/2022-08-24 (59).png  \n",
            "  inflating: dataset/masks/2022-08-24 (224).png  \n",
            "  inflating: dataset/masks/2022-08-24 (273).png  \n",
            "  inflating: dataset/masks/2022-08-24 (18).png  \n",
            "  inflating: dataset/masks/2022-08-24 (336).png  \n",
            "  inflating: dataset/masks/2022-08-24 (341).png  \n",
            "  inflating: dataset/masks/2022-08-24 (80).png  \n",
            "  inflating: dataset/masks/2022-08-24 (204).png  \n",
            "  inflating: dataset/masks/2022-08-24 (195).png  \n",
            "  inflating: dataset/masks/2022-08-24 (38).png  \n",
            "  inflating: dataset/masks/2022-08-24 (316).png  \n",
            "  inflating: dataset/masks/2022-08-24 (183).png  \n",
            "  inflating: dataset/masks/2022-08-24 (300).png  \n",
            "  inflating: dataset/masks/2022-08-24 (245).png  \n",
            "  inflating: dataset/masks/2022-08-24 (212).png  \n",
            "  inflating: dataset/masks/2022-08-24 (269).png  \n",
            "  inflating: dataset/masks/2022-08-24 (286).png  \n",
            "  inflating: dataset/masks/2022-08-24 (117).png  \n",
            "  inflating: dataset/masks/2022-08-24 (55).png  \n",
            "  inflating: dataset/masks/2022-08-24 (101).png  \n",
            "  inflating: dataset/masks/2022-08-24 (228).png  \n",
            "  inflating: dataset/masks/2022-08-24 (43).png  \n",
            "  inflating: dataset/masks/2022-08-24 (290).png  \n",
            "  inflating: dataset/masks/2022-08-24 (14).png  \n",
            "  inflating: dataset/masks/2022-08-24 (207).png  \n",
            "  inflating: dataset/masks/2022-08-24 (83).png  \n",
            "  inflating: dataset/masks/2022-08-24 (342).png  \n",
            "  inflating: dataset/masks/2022-08-24 (196).png  \n",
            "  inflating: dataset/masks/2022-08-24 (179).png  \n",
            "  inflating: dataset/masks/2022-08-24 (315).png  \n",
            "  inflating: dataset/masks/2022-08-24 (180).png  \n",
            "  inflating: dataset/masks/2022-08-24 (303).png  \n",
            "  inflating: dataset/masks/2022-08-24 (138).png  \n",
            "  inflating: dataset/masks/2022-08-24 (211).png  \n",
            "  inflating: dataset/masks/2022-08-24 (285).png  \n",
            "  inflating: dataset/masks/2022-08-24 (114).png  \n",
            "  inflating: dataset/masks/2022-08-24 (56).png  \n",
            "  inflating: dataset/masks/2022-08-24 (102).png  \n",
            "  inflating: dataset/masks/2022-08-24 (40).png  \n",
            "  inflating: dataset/masks/2022-08-24 (155).png  \n",
            "  inflating: dataset/masks/2022-08-24 (17).png  \n",
            "  inflating: dataset/masks/2022-08-24 (339).png  \n",
            "  inflating: dataset/masks/2022-08-24 (293).png  \n",
            "  inflating: dataset/masks/2022-08-24 (60).png  \n",
            "  inflating: dataset/masks/2022-08-24 (37).png  \n",
            "  inflating: dataset/masks/2022-08-24 (175).png  \n",
            "  inflating: dataset/masks/2022-08-24 (21).png  \n",
            "  inflating: dataset/masks/2022-08-24 (163).png  \n",
            "  inflating: dataset/masks/2022-08-24 (99).png  \n",
            "  inflating: dataset/masks/2022-08-24 (76).png  \n",
            "  inflating: dataset/masks/2022-08-24 (134).png  \n",
            "  inflating: dataset/masks/2022-08-24 (323).png  \n",
            "  inflating: dataset/masks/2022-08-24 (289).png  \n",
            "  inflating: dataset/masks/2022-08-24 (266).png  \n",
            "  inflating: dataset/masks/2022-08-24 (231).png  \n",
            "  inflating: dataset/masks/2022-08-24 (118).png  \n",
            "  inflating: dataset/masks/2022-08-24 (227).png  \n",
            "  inflating: dataset/masks/2022-08-24 (335).png  \n",
            "  inflating: dataset/masks/2022-08-24 (270).png  \n",
            "  inflating: dataset/masks/2022-08-24 (159).png  \n",
            "  inflating: dataset/masks/2022-08-24 (158).png  \n",
            "  inflating: dataset/masks/2022-08-24 (334).png  \n",
            "  inflating: dataset/masks/2022-08-24 (271).png  \n",
            "  inflating: dataset/masks/2022-08-24 (226).png  \n",
            "  inflating: dataset/masks/2022-08-24 (119).png  \n",
            "  inflating: dataset/masks/2022-08-24 (230).png  \n",
            "  inflating: dataset/masks/2022-08-24 (322).png  \n",
            "  inflating: dataset/masks/2022-08-24 (288).png  \n",
            "  inflating: dataset/masks/2022-08-24 (267).png  \n",
            "  inflating: dataset/masks/2022-08-24 (135).png  \n",
            "  inflating: dataset/masks/2022-08-24 (98).png  \n",
            "  inflating: dataset/masks/2022-08-24 (77).png  \n",
            "  inflating: dataset/masks/2022-08-24 (162).png  \n",
            "  inflating: dataset/masks/2022-08-24 (36).png  \n",
            "  inflating: dataset/masks/2022-08-24 (61).png  \n",
            "  inflating: dataset/masks/2022-08-24 (16).png  \n",
            "  inflating: dataset/masks/2022-08-24 (338).png  \n",
            "  inflating: dataset/masks/2022-08-24 (292).png  \n",
            "  inflating: dataset/masks/2022-08-24 (154).png  \n",
            "  inflating: dataset/masks/2022-08-24 (41).png  \n",
            "  inflating: dataset/masks/2022-08-24 (57).png  \n",
            "  inflating: dataset/masks/2022-08-24 (115).png  \n",
            "  inflating: dataset/masks/2022-08-24 (284).png  \n",
            "  inflating: dataset/masks/2022-08-24 (351) - Copy.png  \n",
            "  inflating: dataset/masks/2022-08-24 (142).png  \n",
            "  inflating: dataset/masks/2022-08-24 (94).png  \n",
            "  inflating: dataset/masks/2022-08-24 (210).png  \n",
            "  inflating: dataset/masks/2022-08-24 (139).png  \n",
            "  inflating: dataset/masks/2022-08-24 (181).png  \n",
            "  inflating: dataset/masks/2022-08-24 (197).png  \n",
            "  inflating: dataset/masks/2022-08-24 (178).png  \n",
            "  inflating: dataset/masks/2022-08-24 (206).png  \n",
            "  inflating: dataset/masks/2022-08-24 (82).png  \n",
            "  inflating: dataset/masks/2022-08-24 (343).png  \n",
            "  inflating: dataset/masks/2022-08-24 (89).png  \n",
            "  inflating: dataset/masks/2022-08-24 (66).png  \n",
            "  inflating: dataset/masks/2022-08-24 (348).png  \n",
            "  inflating: dataset/masks/2022-08-24 (124).png  \n",
            "  inflating: dataset/masks/2022-08-24 (173).png  \n",
            "  inflating: dataset/masks/2022-08-24 (309).png  \n",
            "  inflating: dataset/masks/2022-08-24 (165).png  \n",
            "  inflating: dataset/masks/2022-08-24 (70).png  \n",
            "  inflating: dataset/masks/2022-08-24 (132).png  \n",
            "  inflating: dataset/masks/2022-08-24 (325).png  \n",
            "  inflating: dataset/masks/2022-08-24 (260).png  \n",
            "  inflating: dataset/masks/2022-08-24 (149).png  \n",
            "  inflating: dataset/masks/2022-08-24 (237).png  \n",
            "  inflating: dataset/masks/2022-08-24 (221).png  \n",
            "  inflating: dataset/masks/2022-08-24 (108).png  \n",
            "  inflating: dataset/masks/2022-08-24 (299).png  \n",
            "  inflating: dataset/masks/2022-08-24 (333).png  \n",
            "  inflating: dataset/masks/2022-08-24 (276).png  \n",
            "  inflating: dataset/masks/2022-08-24 (128).png  \n",
            "  inflating: dataset/masks/2022-08-24 (85).png  \n",
            "  inflating: dataset/masks/2022-08-24 (201).png  \n",
            "  inflating: dataset/masks/2022-08-24 (344).png  \n",
            "  inflating: dataset/masks/2022-08-24 (190).png  \n",
            "  inflating: dataset/masks/2022-08-24 (186).png  \n",
            "  inflating: dataset/masks/2022-08-24 (169).png  \n",
            "  inflating: dataset/masks/2022-08-24 (240).png  \n",
            "  inflating: dataset/masks/2022-08-24 (305).png  \n",
            "  inflating: dataset/masks/2022-08-24 (217).png  \n",
            "  inflating: dataset/masks/2022-08-24 (93).png  \n",
            "  inflating: dataset/masks/2022-08-24 (283).png  \n",
            "  inflating: dataset/masks/2022-08-24 (329).png  \n",
            "  inflating: dataset/masks/2022-08-24 (112).png  \n",
            "  inflating: dataset/masks/2022-08-24 (50).png  \n",
            "  inflating: dataset/masks/2022-08-24 (104).png  \n",
            "  inflating: dataset/masks/2022-08-24 (153).png  \n",
            "  inflating: dataset/masks/2022-08-24 (295).png  \n",
            "  inflating: dataset/masks/2022-08-24 (11).png  \n",
            "  inflating: dataset/masks/2022-08-24 (294).png  \n",
            "  inflating: dataset/masks/2022-08-24 (10).png  \n",
            "  inflating: dataset/masks/2022-08-24 (152).png  \n",
            "  inflating: dataset/masks/2022-08-24 (47).png  \n",
            "  inflating: dataset/masks/2022-08-24 (105).png  \n",
            "  inflating: dataset/masks/2022-08-24 (51).png  \n",
            "  inflating: dataset/masks/2022-08-24 (113).png  \n",
            "  inflating: dataset/masks/2022-08-24 (282).png  \n",
            "  inflating: dataset/masks/2022-08-24 (328).png  \n",
            "  inflating: dataset/masks/2022-08-24 (144).png  \n",
            "  inflating: dataset/masks/2022-08-24 (5).png  \n",
            "  inflating: dataset/masks/2022-08-24 (216).png  \n",
            "  inflating: dataset/masks/2022-08-24 (92).png  \n",
            "  inflating: dataset/masks/2022-08-24 (241).png  \n",
            "  inflating: dataset/masks/2022-08-24 (304).png  \n",
            "  inflating: dataset/masks/2022-08-24 (187).png  \n",
            "  inflating: dataset/masks/2022-08-24 (168).png  \n",
            "  inflating: dataset/masks/2022-08-24 (257).png  \n",
            "  inflating: dataset/masks/2022-08-24 (312).png  \n",
            "  inflating: dataset/masks/2022-08-24 (191).png  \n",
            "  inflating: dataset/masks/2022-08-24 (84).png  \n",
            "  inflating: dataset/masks/2022-08-24 (200).png  \n",
            "  inflating: dataset/masks/2022-08-24 (129).png  \n",
            "  inflating: dataset/masks/2022-08-24 (298).png  \n",
            "  inflating: dataset/masks/2022-08-24 (332).png  \n",
            "  inflating: dataset/masks/2022-08-24 (277).png  \n",
            "  inflating: dataset/masks/2022-08-24 (220).png  \n",
            "  inflating: dataset/masks/2022-08-24 (236).png  \n",
            "  inflating: dataset/masks/2022-08-24 (148).png  \n",
            "  inflating: dataset/masks/2022-08-24 (324).png  \n",
            "  inflating: dataset/masks/2022-08-24 (261).png  \n",
            "  inflating: dataset/masks/2022-08-24 (133).png  \n",
            "  inflating: dataset/masks/2022-08-24 (71).png  \n",
            "  inflating: dataset/masks/2022-08-24 (164).png  \n",
            "  inflating: dataset/masks/2022-08-24 (26).png  \n",
            "  inflating: dataset/masks/2022-08-24 (308).png  \n",
            "  inflating: dataset/masks/2022-08-24 (172).png  \n",
            "  inflating: dataset/masks/2022-08-24 (30).png  \n",
            "  inflating: dataset/masks/2022-08-24 (125).png  \n",
            "  inflating: dataset/masks/2022-08-24 (88).png  \n",
            "  inflating: dataset/masks/2022-08-24 (67).png  \n",
            "  inflating: dataset/masks/2022-08-24 (349).png  \n",
            "298 files found\n"
          ]
        }
      ]
    },
    {
      "cell_type": "code",
      "source": [
        "# Convert NumPy arrays to PyTorch tensors\n",
        "images_train_tensor = torch.from_numpy(train_images,).to(torch.float)\n",
        "masks_train_tensor = torch.from_numpy(train_masks,).to(torch.float)\n",
        "images_test_tensor = torch.from_numpy(test_images,).to(torch.float)\n",
        "masks_test_tensor = torch.from_numpy(test_masks,).to(torch.float)\n",
        "\n",
        "print(f'Training Images : {images_train_tensor.size()}')\n",
        "print(f'Training Masks :{masks_train_tensor.size()}')\n",
        "print(f'Testing Images :{images_test_tensor.size()}')\n",
        "print(f'Testing Masks :{masks_test_tensor.size()}')\n",
        "\n",
        "# Create a PyTorch dataset\n",
        "train_dataset = TensorDataset(images_train_tensor, masks_train_tensor)\n",
        "test_dataset = TensorDataset(images_test_tensor, masks_test_tensor)\n",
        "\n",
        "train_dataloader = DataLoader(train_dataset, batch_size=16, shuffle=True)\n",
        "test_dataloader = DataLoader(test_dataset, batch_size=16, shuffle=True)"
      ],
      "metadata": {
        "colab": {
          "base_uri": "https://localhost:8080/"
        },
        "id": "_sTLOYSUfl6p",
        "outputId": "aa262eef-6095-49b9-caa4-3aa7b55876bc"
      },
      "execution_count": null,
      "outputs": [
        {
          "output_type": "stream",
          "name": "stdout",
          "text": [
            "Training Images : torch.Size([238, 224, 224, 3])\n",
            "Training Masks :torch.Size([238, 224, 224, 9])\n",
            "Testing Images :torch.Size([60, 224, 224, 3])\n",
            "Testing Masks :torch.Size([60, 224, 224, 9])\n"
          ]
        }
      ]
    },
    {
      "cell_type": "code",
      "source": [
        "# Load pretrained model\n",
        "resnet18 = models.resnet18(pretrained=True)\n",
        "\n",
        "#freeze the resnet18 Layers\n",
        "for param in resnet18.parameters():\n",
        "    param.requires_grad = False\n",
        "\n",
        "# Device will determine whether to run the training on GPU or CPU\n",
        "device = torch.device('cuda' if torch.cuda.is_available() else 'cpu')"
      ],
      "metadata": {
        "id": "rUXeX85ejDO2",
        "colab": {
          "base_uri": "https://localhost:8080/"
        },
        "outputId": "c5a2456a-bafb-466c-ccad-f335c7181931"
      },
      "execution_count": null,
      "outputs": [
        {
          "output_type": "stream",
          "name": "stderr",
          "text": [
            "Downloading: \"https://download.pytorch.org/models/resnet18-f37072fd.pth\" to /root/.cache/torch/hub/checkpoints/resnet18-f37072fd.pth\n",
            "100%|██████████| 44.7M/44.7M [00:00<00:00, 142MB/s]\n"
          ]
        }
      ]
    },
    {
      "cell_type": "markdown",
      "source": [
        "## With Skip Connections:"
      ],
      "metadata": {
        "id": "uhEXJdYDc2s4"
      }
    },
    {
      "cell_type": "markdown",
      "source": [
        "### 1. Model:"
      ],
      "metadata": {
        "id": "5DrkqIfidSbB"
      }
    },
    {
      "cell_type": "code",
      "source": [
        "class ResNet_segmentor(nn.Module):\n",
        "  def __init__(self, original_model):\n",
        "      super(ResNet_segmentor, self).__init__()\n",
        "      self.conv1 = original_model.conv1\n",
        "      self.bn1 = original_model.bn1\n",
        "      self.relu = original_model.relu\n",
        "      self.maxpool = original_model.maxpool\n",
        "\n",
        "      self.layer1 = original_model.layer1\n",
        "      self.layer2 = original_model.layer2\n",
        "      self.layer3 = original_model.layer3\n",
        "      self.layer4 = original_model.layer4\n",
        "\n",
        "      self.delayer1 = nn.ConvTranspose2d(512, 256, kernel_size=2, stride=2)\n",
        "\n",
        "      self.bn2 = nn.BatchNorm2d(256)\n",
        "      self.delayer2 = nn.ConvTranspose2d(256, 128, kernel_size=2, stride=2)\n",
        "\n",
        "      self.bn3 = nn.BatchNorm2d(128)\n",
        "      self.delayer3 = nn.ConvTranspose2d(128, 64, kernel_size=2, stride=2)\n",
        "\n",
        "      self.bn4 = nn.BatchNorm2d(64)\n",
        "\n",
        "      self.superdelayer = nn.ConvTranspose2d(64, 64, kernel_size=4, stride=4)\n",
        "      self.bn5 = nn.BatchNorm2d(64)\n",
        "\n",
        "      self.sample = nn.Conv2d(64, 9, kernel_size=1, stride=1)\n",
        "\n",
        "  def forward(self, x):\n",
        "    # Initial layers\n",
        "    x = self.conv1(x)\n",
        "    x = self.bn1(x)\n",
        "    x = self.relu(x)\n",
        "    x = self.maxpool(x)\n",
        "\n",
        "    # ResNet blocks\n",
        "    x1 = self.layer1(x)  # First block of ResNet\n",
        "    x2 = self.layer2(x1)  # Second block of ResNet\n",
        "    x3 = self.layer3(x2)  # Third block of ResNet\n",
        "    x4 = self.layer4(x3)  # Fourth block of ResNet\n",
        "\n",
        "    # Upsampling and addition (skip connection)\n",
        "\n",
        "    x4_upsampled = self.bn2(self.relu(self.delayer1(x4)))  # Upsample x4\n",
        "    x_3 = x3 + x4_upsampled  # Add upsampled x4 and x3\n",
        "\n",
        "    x3_upsampled = self.bn3(self.relu(self.delayer2(x_3)))  # Upsample x_3\n",
        "    x_2 = x2 + x3_upsampled  # Add upsampled x_3 and x2\n",
        "\n",
        "    x2_upsampled = self.bn4(self.relu(self.delayer3(x_2)))  # Upsample x_2\n",
        "    x_1 = x1 + x2_upsampled  # Add upsampled x_2 and x1\n",
        "\n",
        "    # Final layers\n",
        "    out1 = self.bn5(self.relu(self.superdelayer(x_1)))  # Upsample x_1\n",
        "    out = self.sample(out1)  # Apply final convolution to get the output\n",
        "\n",
        "    return out"
      ],
      "metadata": {
        "id": "CT_jJfQek_u0"
      },
      "execution_count": null,
      "outputs": []
    },
    {
      "cell_type": "markdown",
      "source": [
        "### 2. Training:"
      ],
      "metadata": {
        "id": "tuN4w8CzdYMg"
      }
    },
    {
      "cell_type": "code",
      "source": [
        "# Training:\n",
        "model = ResNet_segmentor(resnet18)\n",
        "\n",
        "model = model.to(device)\n",
        "loss_function = nn.CrossEntropyLoss()\n",
        "optimizer = optim.Adam(model.parameters(), lr = 0.001)\n",
        "\n",
        "batch_size = 32\n",
        "num_epochs = 50\n",
        "loss_values_skip = []\n",
        "\n",
        "for epoch in range(num_epochs):\n",
        "    model.train()\n",
        "    running_loss = 0.0\n",
        "    for images, masks in tqdm(train_dataloader):\n",
        "\n",
        "        images=images.permute(0, 3, 1, 2).to(device)\n",
        "        masks=masks.permute(0, 3, 1, 2).to(device)\n",
        "\n",
        "        optimizer.zero_grad()\n",
        "        outputs = model(images)\n",
        "\n",
        "        loss = loss_function(outputs, masks)\n",
        "\n",
        "        loss.backward()\n",
        "        optimizer.step()\n",
        "\n",
        "        running_loss += loss.item() * images.size(0)\n",
        "\n",
        "    epoch_loss = running_loss / len(train_dataset)\n",
        "    loss_values_skip.append(epoch_loss)\n",
        "    print(f'Epoch {epoch+1}/{num_epochs}, Loss: {epoch_loss}')"
      ],
      "metadata": {
        "id": "P67fCkEYpYkt",
        "colab": {
          "base_uri": "https://localhost:8080/"
        },
        "outputId": "fa53b172-8db8-45eb-877f-e051a708c130"
      },
      "execution_count": null,
      "outputs": [
        {
          "output_type": "stream",
          "name": "stderr",
          "text": [
            "100%|██████████| 15/15 [00:02<00:00,  5.33it/s]\n"
          ]
        },
        {
          "output_type": "stream",
          "name": "stdout",
          "text": [
            "Epoch 1/50, Loss: 1.678661126048625\n"
          ]
        },
        {
          "output_type": "stream",
          "name": "stderr",
          "text": [
            "100%|██████████| 15/15 [00:01<00:00, 13.47it/s]\n"
          ]
        },
        {
          "output_type": "stream",
          "name": "stdout",
          "text": [
            "Epoch 2/50, Loss: 1.0100741606800496\n"
          ]
        },
        {
          "output_type": "stream",
          "name": "stderr",
          "text": [
            "100%|██████████| 15/15 [00:01<00:00, 12.45it/s]\n"
          ]
        },
        {
          "output_type": "stream",
          "name": "stdout",
          "text": [
            "Epoch 3/50, Loss: 0.7944130509340462\n"
          ]
        },
        {
          "output_type": "stream",
          "name": "stderr",
          "text": [
            "100%|██████████| 15/15 [00:01<00:00, 13.44it/s]\n"
          ]
        },
        {
          "output_type": "stream",
          "name": "stdout",
          "text": [
            "Epoch 4/50, Loss: 0.6682999785206899\n"
          ]
        },
        {
          "output_type": "stream",
          "name": "stderr",
          "text": [
            "100%|██████████| 15/15 [00:01<00:00, 13.38it/s]\n"
          ]
        },
        {
          "output_type": "stream",
          "name": "stdout",
          "text": [
            "Epoch 5/50, Loss: 0.4182527809082961\n"
          ]
        },
        {
          "output_type": "stream",
          "name": "stderr",
          "text": [
            "100%|██████████| 15/15 [00:01<00:00, 13.53it/s]\n"
          ]
        },
        {
          "output_type": "stream",
          "name": "stdout",
          "text": [
            "Epoch 6/50, Loss: 0.3342259360962555\n"
          ]
        },
        {
          "output_type": "stream",
          "name": "stderr",
          "text": [
            "100%|██████████| 15/15 [00:01<00:00, 13.33it/s]\n"
          ]
        },
        {
          "output_type": "stream",
          "name": "stdout",
          "text": [
            "Epoch 7/50, Loss: 0.2586690477964257\n"
          ]
        },
        {
          "output_type": "stream",
          "name": "stderr",
          "text": [
            "100%|██████████| 15/15 [00:01<00:00, 13.62it/s]\n"
          ]
        },
        {
          "output_type": "stream",
          "name": "stdout",
          "text": [
            "Epoch 8/50, Loss: 0.22382964644612385\n"
          ]
        },
        {
          "output_type": "stream",
          "name": "stderr",
          "text": [
            "100%|██████████| 15/15 [00:01<00:00, 13.73it/s]\n"
          ]
        },
        {
          "output_type": "stream",
          "name": "stdout",
          "text": [
            "Epoch 9/50, Loss: 0.21993496412990474\n"
          ]
        },
        {
          "output_type": "stream",
          "name": "stderr",
          "text": [
            "100%|██████████| 15/15 [00:01<00:00, 13.56it/s]\n"
          ]
        },
        {
          "output_type": "stream",
          "name": "stdout",
          "text": [
            "Epoch 10/50, Loss: 0.20934581456064177\n"
          ]
        },
        {
          "output_type": "stream",
          "name": "stderr",
          "text": [
            "100%|██████████| 15/15 [00:01<00:00, 13.77it/s]\n"
          ]
        },
        {
          "output_type": "stream",
          "name": "stdout",
          "text": [
            "Epoch 11/50, Loss: 0.1784158867447316\n"
          ]
        },
        {
          "output_type": "stream",
          "name": "stderr",
          "text": [
            "100%|██████████| 15/15 [00:01<00:00, 13.28it/s]\n"
          ]
        },
        {
          "output_type": "stream",
          "name": "stdout",
          "text": [
            "Epoch 12/50, Loss: 0.18701527749790864\n"
          ]
        },
        {
          "output_type": "stream",
          "name": "stderr",
          "text": [
            "100%|██████████| 15/15 [00:01<00:00, 12.27it/s]\n"
          ]
        },
        {
          "output_type": "stream",
          "name": "stdout",
          "text": [
            "Epoch 13/50, Loss: 0.19267932632390192\n"
          ]
        },
        {
          "output_type": "stream",
          "name": "stderr",
          "text": [
            "100%|██████████| 15/15 [00:01<00:00, 12.19it/s]\n"
          ]
        },
        {
          "output_type": "stream",
          "name": "stdout",
          "text": [
            "Epoch 14/50, Loss: 0.15334824491448762\n"
          ]
        },
        {
          "output_type": "stream",
          "name": "stderr",
          "text": [
            "100%|██████████| 15/15 [00:01<00:00, 13.41it/s]\n"
          ]
        },
        {
          "output_type": "stream",
          "name": "stdout",
          "text": [
            "Epoch 15/50, Loss: 0.1374466769209429\n"
          ]
        },
        {
          "output_type": "stream",
          "name": "stderr",
          "text": [
            "100%|██████████| 15/15 [00:01<00:00, 13.31it/s]\n"
          ]
        },
        {
          "output_type": "stream",
          "name": "stdout",
          "text": [
            "Epoch 16/50, Loss: 0.13203303102685623\n"
          ]
        },
        {
          "output_type": "stream",
          "name": "stderr",
          "text": [
            "100%|██████████| 15/15 [00:01<00:00, 13.71it/s]\n"
          ]
        },
        {
          "output_type": "stream",
          "name": "stdout",
          "text": [
            "Epoch 17/50, Loss: 0.14082518194903845\n"
          ]
        },
        {
          "output_type": "stream",
          "name": "stderr",
          "text": [
            "100%|██████████| 15/15 [00:01<00:00, 13.01it/s]\n"
          ]
        },
        {
          "output_type": "stream",
          "name": "stdout",
          "text": [
            "Epoch 18/50, Loss: 0.13963290498036296\n"
          ]
        },
        {
          "output_type": "stream",
          "name": "stderr",
          "text": [
            "100%|██████████| 15/15 [00:01<00:00, 14.04it/s]\n"
          ]
        },
        {
          "output_type": "stream",
          "name": "stdout",
          "text": [
            "Epoch 19/50, Loss: 0.11714352930293363\n"
          ]
        },
        {
          "output_type": "stream",
          "name": "stderr",
          "text": [
            "100%|██████████| 15/15 [00:01<00:00, 13.17it/s]\n"
          ]
        },
        {
          "output_type": "stream",
          "name": "stdout",
          "text": [
            "Epoch 20/50, Loss: 0.13339166155382365\n"
          ]
        },
        {
          "output_type": "stream",
          "name": "stderr",
          "text": [
            "100%|██████████| 15/15 [00:01<00:00, 12.95it/s]\n"
          ]
        },
        {
          "output_type": "stream",
          "name": "stdout",
          "text": [
            "Epoch 21/50, Loss: 0.12665261597443028\n"
          ]
        },
        {
          "output_type": "stream",
          "name": "stderr",
          "text": [
            "100%|██████████| 15/15 [00:01<00:00, 12.35it/s]\n"
          ]
        },
        {
          "output_type": "stream",
          "name": "stdout",
          "text": [
            "Epoch 22/50, Loss: 0.11784666901876946\n"
          ]
        },
        {
          "output_type": "stream",
          "name": "stderr",
          "text": [
            "100%|██████████| 15/15 [00:01<00:00, 12.45it/s]\n"
          ]
        },
        {
          "output_type": "stream",
          "name": "stdout",
          "text": [
            "Epoch 23/50, Loss: 0.11702836148378228\n"
          ]
        },
        {
          "output_type": "stream",
          "name": "stderr",
          "text": [
            "100%|██████████| 15/15 [00:01<00:00, 12.61it/s]\n"
          ]
        },
        {
          "output_type": "stream",
          "name": "stdout",
          "text": [
            "Epoch 24/50, Loss: 0.09542879462242126\n"
          ]
        },
        {
          "output_type": "stream",
          "name": "stderr",
          "text": [
            "100%|██████████| 15/15 [00:01<00:00, 12.56it/s]\n"
          ]
        },
        {
          "output_type": "stream",
          "name": "stdout",
          "text": [
            "Epoch 25/50, Loss: 0.09068015562135633\n"
          ]
        },
        {
          "output_type": "stream",
          "name": "stderr",
          "text": [
            "100%|██████████| 15/15 [00:01<00:00, 12.60it/s]\n"
          ]
        },
        {
          "output_type": "stream",
          "name": "stdout",
          "text": [
            "Epoch 26/50, Loss: 0.08192950117738307\n"
          ]
        },
        {
          "output_type": "stream",
          "name": "stderr",
          "text": [
            "100%|██████████| 15/15 [00:01<00:00, 13.37it/s]\n"
          ]
        },
        {
          "output_type": "stream",
          "name": "stdout",
          "text": [
            "Epoch 27/50, Loss: 0.07797533474048647\n"
          ]
        },
        {
          "output_type": "stream",
          "name": "stderr",
          "text": [
            "100%|██████████| 15/15 [00:01<00:00, 12.69it/s]\n"
          ]
        },
        {
          "output_type": "stream",
          "name": "stdout",
          "text": [
            "Epoch 28/50, Loss: 0.0854306066361796\n"
          ]
        },
        {
          "output_type": "stream",
          "name": "stderr",
          "text": [
            "100%|██████████| 15/15 [00:01<00:00, 13.64it/s]\n"
          ]
        },
        {
          "output_type": "stream",
          "name": "stdout",
          "text": [
            "Epoch 29/50, Loss: 0.08789797878565908\n"
          ]
        },
        {
          "output_type": "stream",
          "name": "stderr",
          "text": [
            "100%|██████████| 15/15 [00:01<00:00, 12.94it/s]\n"
          ]
        },
        {
          "output_type": "stream",
          "name": "stdout",
          "text": [
            "Epoch 30/50, Loss: 0.07771687829444389\n"
          ]
        },
        {
          "output_type": "stream",
          "name": "stderr",
          "text": [
            "100%|██████████| 15/15 [00:01<00:00, 13.28it/s]\n"
          ]
        },
        {
          "output_type": "stream",
          "name": "stdout",
          "text": [
            "Epoch 31/50, Loss: 0.07097602767102859\n"
          ]
        },
        {
          "output_type": "stream",
          "name": "stderr",
          "text": [
            "100%|██████████| 15/15 [00:01<00:00, 13.28it/s]\n"
          ]
        },
        {
          "output_type": "stream",
          "name": "stdout",
          "text": [
            "Epoch 32/50, Loss: 0.07443951552405077\n"
          ]
        },
        {
          "output_type": "stream",
          "name": "stderr",
          "text": [
            "100%|██████████| 15/15 [00:01<00:00, 13.42it/s]\n"
          ]
        },
        {
          "output_type": "stream",
          "name": "stdout",
          "text": [
            "Epoch 33/50, Loss: 0.06621850178647443\n"
          ]
        },
        {
          "output_type": "stream",
          "name": "stderr",
          "text": [
            "100%|██████████| 15/15 [00:01<00:00, 13.25it/s]\n"
          ]
        },
        {
          "output_type": "stream",
          "name": "stdout",
          "text": [
            "Epoch 34/50, Loss: 0.06613796210589529\n"
          ]
        },
        {
          "output_type": "stream",
          "name": "stderr",
          "text": [
            "100%|██████████| 15/15 [00:01<00:00, 12.74it/s]\n"
          ]
        },
        {
          "output_type": "stream",
          "name": "stdout",
          "text": [
            "Epoch 35/50, Loss: 0.05993132230614414\n"
          ]
        },
        {
          "output_type": "stream",
          "name": "stderr",
          "text": [
            "100%|██████████| 15/15 [00:01<00:00, 12.92it/s]\n"
          ]
        },
        {
          "output_type": "stream",
          "name": "stdout",
          "text": [
            "Epoch 36/50, Loss: 0.0607716302473505\n"
          ]
        },
        {
          "output_type": "stream",
          "name": "stderr",
          "text": [
            "100%|██████████| 15/15 [00:01<00:00, 13.09it/s]\n"
          ]
        },
        {
          "output_type": "stream",
          "name": "stdout",
          "text": [
            "Epoch 37/50, Loss: 0.062378189456062154\n"
          ]
        },
        {
          "output_type": "stream",
          "name": "stderr",
          "text": [
            "100%|██████████| 15/15 [00:01<00:00, 13.48it/s]\n"
          ]
        },
        {
          "output_type": "stream",
          "name": "stdout",
          "text": [
            "Epoch 38/50, Loss: 0.06374169394624334\n"
          ]
        },
        {
          "output_type": "stream",
          "name": "stderr",
          "text": [
            "100%|██████████| 15/15 [00:01<00:00, 13.19it/s]\n"
          ]
        },
        {
          "output_type": "stream",
          "name": "stdout",
          "text": [
            "Epoch 39/50, Loss: 0.056434170882992386\n"
          ]
        },
        {
          "output_type": "stream",
          "name": "stderr",
          "text": [
            "100%|██████████| 15/15 [00:01<00:00, 13.28it/s]\n"
          ]
        },
        {
          "output_type": "stream",
          "name": "stdout",
          "text": [
            "Epoch 40/50, Loss: 0.05953858104072699\n"
          ]
        },
        {
          "output_type": "stream",
          "name": "stderr",
          "text": [
            "100%|██████████| 15/15 [00:01<00:00, 13.59it/s]\n"
          ]
        },
        {
          "output_type": "stream",
          "name": "stdout",
          "text": [
            "Epoch 41/50, Loss: 0.06088335780786867\n"
          ]
        },
        {
          "output_type": "stream",
          "name": "stderr",
          "text": [
            "100%|██████████| 15/15 [00:01<00:00, 13.20it/s]\n"
          ]
        },
        {
          "output_type": "stream",
          "name": "stdout",
          "text": [
            "Epoch 42/50, Loss: 0.059842691201121866\n"
          ]
        },
        {
          "output_type": "stream",
          "name": "stderr",
          "text": [
            "100%|██████████| 15/15 [00:01<00:00, 13.41it/s]\n"
          ]
        },
        {
          "output_type": "stream",
          "name": "stdout",
          "text": [
            "Epoch 43/50, Loss: 0.057681875945139335\n"
          ]
        },
        {
          "output_type": "stream",
          "name": "stderr",
          "text": [
            "100%|██████████| 15/15 [00:01<00:00, 13.72it/s]\n"
          ]
        },
        {
          "output_type": "stream",
          "name": "stdout",
          "text": [
            "Epoch 44/50, Loss: 0.05723820927263308\n"
          ]
        },
        {
          "output_type": "stream",
          "name": "stderr",
          "text": [
            "100%|██████████| 15/15 [00:01<00:00, 13.60it/s]\n"
          ]
        },
        {
          "output_type": "stream",
          "name": "stdout",
          "text": [
            "Epoch 45/50, Loss: 0.05197516612771178\n"
          ]
        },
        {
          "output_type": "stream",
          "name": "stderr",
          "text": [
            "100%|██████████| 15/15 [00:01<00:00, 12.79it/s]\n"
          ]
        },
        {
          "output_type": "stream",
          "name": "stdout",
          "text": [
            "Epoch 46/50, Loss: 0.05331999013403885\n"
          ]
        },
        {
          "output_type": "stream",
          "name": "stderr",
          "text": [
            "100%|██████████| 15/15 [00:01<00:00, 12.52it/s]\n"
          ]
        },
        {
          "output_type": "stream",
          "name": "stdout",
          "text": [
            "Epoch 47/50, Loss: 0.050182261199009516\n"
          ]
        },
        {
          "output_type": "stream",
          "name": "stderr",
          "text": [
            "100%|██████████| 15/15 [00:01<00:00, 12.89it/s]\n"
          ]
        },
        {
          "output_type": "stream",
          "name": "stdout",
          "text": [
            "Epoch 48/50, Loss: 0.05182327474115275\n"
          ]
        },
        {
          "output_type": "stream",
          "name": "stderr",
          "text": [
            "100%|██████████| 15/15 [00:01<00:00, 12.88it/s]\n"
          ]
        },
        {
          "output_type": "stream",
          "name": "stdout",
          "text": [
            "Epoch 49/50, Loss: 0.04968985339172748\n"
          ]
        },
        {
          "output_type": "stream",
          "name": "stderr",
          "text": [
            "100%|██████████| 15/15 [00:01<00:00, 13.23it/s]"
          ]
        },
        {
          "output_type": "stream",
          "name": "stdout",
          "text": [
            "Epoch 50/50, Loss: 0.047291391693493896\n"
          ]
        },
        {
          "output_type": "stream",
          "name": "stderr",
          "text": [
            "\n"
          ]
        }
      ]
    },
    {
      "cell_type": "markdown",
      "source": [
        "### 3. Testing and Evaluation:"
      ],
      "metadata": {
        "id": "cS7U0aKydiEF"
      }
    },
    {
      "cell_type": "code",
      "source": [
        "# Evaluation\n",
        "\n",
        "device = torch.device('cuda' if torch.cuda.is_available() else 'cpu')\n",
        "\n",
        "images_test = images_test_tensor.permute(0,3,1,2).to(device)\n",
        "outputs = model(images_test).permute(0,2,3,1)\n",
        "\n",
        "segmented_maps = torch.argmax(outputs, dim = 3).to(torch.device('cpu'))\n",
        "segmented_maps = segmented_maps.numpy()\n",
        "\n",
        "actual_masks = torch.argmax(masks_test_tensor,dim=3)\n",
        "actual_masks = actual_masks.numpy()\n",
        "\n",
        "# Calculating per pixel accuracy\n",
        "per_pixel_accuracy = np.sum(actual_masks == segmented_maps)/(np.prod(actual_masks.shape))\n",
        "\n",
        "# Calculating mean IoU\n",
        "mean_iou_list =[]\n",
        "for i in range(len(segmented_maps)):\n",
        "  iou_list = []\n",
        "  for label in range(9):\n",
        "\n",
        "    actual = actual_masks[i]==label\n",
        "    segmented = segmented_maps[i]==label\n",
        "    intersection = segmented[actual==True]\n",
        "\n",
        "    union = np.sum(actual) + np.sum(segmented) - np.sum(intersection)\n",
        "\n",
        "    if union!=0:\n",
        "      iou = np.sum(intersection)/union\n",
        "      iou_list.append(iou)\n",
        "\n",
        "  mean_iou_list.append(np.mean(iou_list))\n",
        "\n",
        "print(f\"Per pixel accuracy is {per_pixel_accuracy}\")\n",
        "print(f\"Mean IoU is {np.mean(mean_iou_list)}\")"
      ],
      "metadata": {
        "colab": {
          "base_uri": "https://localhost:8080/"
        },
        "id": "QfhSjD1lQU9v",
        "outputId": "c3d36115-50d8-4b38-9b49-a45da5c5eefc"
      },
      "execution_count": null,
      "outputs": [
        {
          "output_type": "stream",
          "name": "stdout",
          "text": [
            "Per pixel accuracy is 0.9649208120748299\n",
            "Mean IoU is 0.32518176006036287\n"
          ]
        }
      ]
    },
    {
      "cell_type": "markdown",
      "source": [
        "### 4. Display Image:"
      ],
      "metadata": {
        "id": "QmcKYaaTd9b9"
      }
    },
    {
      "cell_type": "code",
      "source": [
        "random_index=10\n",
        "\n",
        "sample_image = images_test_tensor[random_index]\n",
        "actual_mask = torch.argmax(masks_test_tensor[random_index], dim=2)\n",
        "\n",
        "segmented_mask = torch.argmax(model(sample_image.unsqueeze(0).permute(0,3,1,2).to(device)).permute(0,2,3,1).squeeze(0),dim=2).to(torch.device('cpu'))\n",
        "\n",
        "plt.figure(figsize = (10,10))\n",
        "\n",
        "plt.subplot(1,3,1)\n",
        "plt.imshow(sample_image)\n",
        "plt.title('Original Image')\n",
        "plt.axis('off')\n",
        "\n",
        "plt.subplot(1,3,2)\n",
        "plt.imshow(actual_mask, vmin=0, vmax=8)\n",
        "plt.title('GT Mask')\n",
        "plt.axis('off')\n",
        "\n",
        "plt.subplot(1,3,3)\n",
        "plt.imshow(segmented_mask, vmin=0, vmax=8)\n",
        "plt.title('Predicted Mask(skip connection)')\n",
        "plt.axis('off')"
      ],
      "metadata": {
        "id": "NnlqLY34MnPo",
        "colab": {
          "base_uri": "https://localhost:8080/",
          "height": 304
        },
        "outputId": "0e1f2972-c87b-4800-cc62-155961c20f4f"
      },
      "execution_count": null,
      "outputs": [
        {
          "output_type": "execute_result",
          "data": {
            "text/plain": [
              "(-0.5, 223.5, 223.5, -0.5)"
            ]
          },
          "metadata": {},
          "execution_count": 16
        },
        {
          "output_type": "display_data",
          "data": {
            "text/plain": [
              "<Figure size 1000x1000 with 3 Axes>"
            ],
            "image/png": "[encoded data removed]"
          },
          "metadata": {}
        }
      ]
    },
    {
      "cell_type": "markdown",
      "source": [
        "## Without Skip connection:"
      ],
      "metadata": {
        "id": "FDWwsFqYVxt6"
      }
    },
    {
      "cell_type": "markdown",
      "source": [
        "### 1. Model:"
      ],
      "metadata": {
        "id": "Dfg78lNZeJBk"
      }
    },
    {
      "cell_type": "code",
      "source": [
        "class ResNet_segmentor_noskip(nn.Module):\n",
        "  def __init__(self, original_model):\n",
        "      super(ResNet_segmentor_noskip, self).__init__()\n",
        "      self.conv1 = original_model.conv1\n",
        "      self.bn1 = original_model.bn1\n",
        "      self.relu = original_model.relu\n",
        "      self.maxpool = original_model.maxpool\n",
        "\n",
        "      self.layer1 = original_model.layer1\n",
        "      self.layer2 = original_model.layer2\n",
        "      self.layer3 = original_model.layer3\n",
        "      self.layer4 = original_model.layer4\n",
        "\n",
        "      self.delayer1 = nn.ConvTranspose2d(512, 256, kernel_size=2, stride=2)\n",
        "\n",
        "      self.bn2 = nn.BatchNorm2d(256)\n",
        "      self.delayer2 = nn.ConvTranspose2d(256, 128, kernel_size=2, stride=2)\n",
        "\n",
        "      self.bn3 = nn.BatchNorm2d(128)\n",
        "      self.delayer3 = nn.ConvTranspose2d(128, 64, kernel_size=2, stride=2)\n",
        "\n",
        "      self.bn4 = nn.BatchNorm2d(64)\n",
        "\n",
        "      self.superdelayer = nn.ConvTranspose2d(64, 64, kernel_size=4, stride=4)\n",
        "      self.bn5 = nn.BatchNorm2d(64)\n",
        "\n",
        "      self.sample = nn.Conv2d(64, 9, kernel_size=1, stride=1)\n",
        "\n",
        "  def forward(self, x):\n",
        "    # Initial layers\n",
        "    x = self.conv1(x)\n",
        "    x = self.bn1(x)\n",
        "    x = self.relu(x)\n",
        "    x = self.maxpool(x)\n",
        "\n",
        "    # ResNet blocks\n",
        "    x1 = self.layer1(x)  # First block of ResNet\n",
        "    x2 = self.layer2(x1)  # Second block of ResNet\n",
        "    x3 = self.layer3(x2)  # Third block of ResNet\n",
        "    x4 = self.layer4(x3)  # Fourth block of ResNet\n",
        "\n",
        "    # Upsampling and addition (skip connection)\n",
        "\n",
        "    x4_upsampled = self.bn2(self.relu(self.delayer1(x4)))  # Upsample x4\n",
        "\n",
        "    x3_upsampled = self.bn3(self.relu(self.delayer2(x4_upsampled)))  # Upsample x_3\n",
        "\n",
        "    x2_upsampled = self.bn4(self.relu(self.delayer3(x3_upsampled)))  # Upsample x_2\n",
        "\n",
        "    # Final layers\n",
        "    out1 = self.bn5(self.relu(self.superdelayer(x2_upsampled)))  # Upsample x_1\n",
        "    out = self.sample(out1)  # Apply final convolution to get the output\n",
        "\n",
        "    return out"
      ],
      "metadata": {
        "id": "vVZfX691RYvT"
      },
      "execution_count": null,
      "outputs": []
    },
    {
      "cell_type": "markdown",
      "source": [
        "### 2. Training:"
      ],
      "metadata": {
        "id": "8_En1NpCeRLw"
      }
    },
    {
      "cell_type": "code",
      "source": [
        "# Training:\n",
        "model_noskip = ResNet_segmentor_noskip(resnet18)\n",
        "\n",
        "model_noskip = model_noskip.to(device)\n",
        "loss_function = nn.CrossEntropyLoss()\n",
        "optimizer = optim.Adam(model_noskip.parameters(), lr = 0.001)\n",
        "\n",
        "batch_size = 32\n",
        "num_epochs = 50\n",
        "loss_values_noskip = []\n",
        "\n",
        "for epoch in range(num_epochs):\n",
        "    model_noskip.train()\n",
        "    running_loss = 0.0\n",
        "    for images, masks in tqdm(train_dataloader):\n",
        "\n",
        "        images=images.permute(0, 3, 1, 2).to(device)\n",
        "        masks=masks.permute(0, 3, 1, 2).to(device)\n",
        "\n",
        "        optimizer.zero_grad()\n",
        "        outputs = model_noskip(images)\n",
        "\n",
        "        loss = loss_function(outputs, masks)\n",
        "\n",
        "        loss.backward()\n",
        "        optimizer.step()\n",
        "\n",
        "        running_loss += loss.item() * images.size(0)\n",
        "\n",
        "    epoch_loss = running_loss / len(train_dataset)\n",
        "    loss_values_noskip.append(epoch_loss)\n",
        "    print(f'Epoch {epoch+1}/{num_epochs}, Loss: {epoch_loss}')"
      ],
      "metadata": {
        "id": "VrwJLya2YXgz",
        "colab": {
          "base_uri": "https://localhost:8080/"
        },
        "outputId": "b57ec18e-502f-4d9c-d9cb-71f70b5dfe01"
      },
      "execution_count": null,
      "outputs": [
        {
          "output_type": "stream",
          "name": "stderr",
          "text": [
            "100%|██████████| 15/15 [00:01<00:00, 11.70it/s]\n"
          ]
        },
        {
          "output_type": "stream",
          "name": "stdout",
          "text": [
            "Epoch 1/50, Loss: 1.8091182778863346\n"
          ]
        },
        {
          "output_type": "stream",
          "name": "stderr",
          "text": [
            "100%|██████████| 15/15 [00:01<00:00, 13.23it/s]\n"
          ]
        },
        {
          "output_type": "stream",
          "name": "stdout",
          "text": [
            "Epoch 2/50, Loss: 1.1162636931202992\n"
          ]
        },
        {
          "output_type": "stream",
          "name": "stderr",
          "text": [
            "100%|██████████| 15/15 [00:01<00:00, 13.59it/s]\n"
          ]
        },
        {
          "output_type": "stream",
          "name": "stdout",
          "text": [
            "Epoch 3/50, Loss: 0.8236181735992432\n"
          ]
        },
        {
          "output_type": "stream",
          "name": "stderr",
          "text": [
            "100%|██████████| 15/15 [00:01<00:00, 13.62it/s]\n"
          ]
        },
        {
          "output_type": "stream",
          "name": "stdout",
          "text": [
            "Epoch 4/50, Loss: 0.6203048376976943\n"
          ]
        },
        {
          "output_type": "stream",
          "name": "stderr",
          "text": [
            "100%|██████████| 15/15 [00:01<00:00, 13.45it/s]\n"
          ]
        },
        {
          "output_type": "stream",
          "name": "stdout",
          "text": [
            "Epoch 5/50, Loss: 0.7181081361129504\n"
          ]
        },
        {
          "output_type": "stream",
          "name": "stderr",
          "text": [
            "100%|██████████| 15/15 [00:01<00:00, 13.43it/s]\n"
          ]
        },
        {
          "output_type": "stream",
          "name": "stdout",
          "text": [
            "Epoch 6/50, Loss: 0.5241500119201276\n"
          ]
        },
        {
          "output_type": "stream",
          "name": "stderr",
          "text": [
            "100%|██████████| 15/15 [00:01<00:00, 13.57it/s]\n"
          ]
        },
        {
          "output_type": "stream",
          "name": "stdout",
          "text": [
            "Epoch 7/50, Loss: 0.4277842563240468\n"
          ]
        },
        {
          "output_type": "stream",
          "name": "stderr",
          "text": [
            "100%|██████████| 15/15 [00:01<00:00, 13.08it/s]\n"
          ]
        },
        {
          "output_type": "stream",
          "name": "stdout",
          "text": [
            "Epoch 8/50, Loss: 0.3536409415116831\n"
          ]
        },
        {
          "output_type": "stream",
          "name": "stderr",
          "text": [
            "100%|██████████| 15/15 [00:01<00:00, 13.24it/s]\n"
          ]
        },
        {
          "output_type": "stream",
          "name": "stdout",
          "text": [
            "Epoch 9/50, Loss: 0.46600673003356996\n"
          ]
        },
        {
          "output_type": "stream",
          "name": "stderr",
          "text": [
            "100%|██████████| 15/15 [00:01<00:00, 13.41it/s]\n"
          ]
        },
        {
          "output_type": "stream",
          "name": "stdout",
          "text": [
            "Epoch 10/50, Loss: 0.33220505113361265\n"
          ]
        },
        {
          "output_type": "stream",
          "name": "stderr",
          "text": [
            "100%|██████████| 15/15 [00:01<00:00, 13.46it/s]\n"
          ]
        },
        {
          "output_type": "stream",
          "name": "stdout",
          "text": [
            "Epoch 11/50, Loss: 0.408354823078428\n"
          ]
        },
        {
          "output_type": "stream",
          "name": "stderr",
          "text": [
            "100%|██████████| 15/15 [00:01<00:00, 13.45it/s]\n"
          ]
        },
        {
          "output_type": "stream",
          "name": "stdout",
          "text": [
            "Epoch 12/50, Loss: 0.3075377938627195\n"
          ]
        },
        {
          "output_type": "stream",
          "name": "stderr",
          "text": [
            "100%|██████████| 15/15 [00:01<00:00, 13.77it/s]\n"
          ]
        },
        {
          "output_type": "stream",
          "name": "stdout",
          "text": [
            "Epoch 13/50, Loss: 0.2565182242072931\n"
          ]
        },
        {
          "output_type": "stream",
          "name": "stderr",
          "text": [
            "100%|██████████| 15/15 [00:01<00:00, 13.29it/s]\n"
          ]
        },
        {
          "output_type": "stream",
          "name": "stdout",
          "text": [
            "Epoch 14/50, Loss: 0.2742815618755437\n"
          ]
        },
        {
          "output_type": "stream",
          "name": "stderr",
          "text": [
            "100%|██████████| 15/15 [00:01<00:00, 12.99it/s]\n"
          ]
        },
        {
          "output_type": "stream",
          "name": "stdout",
          "text": [
            "Epoch 15/50, Loss: 0.23802775457626632\n"
          ]
        },
        {
          "output_type": "stream",
          "name": "stderr",
          "text": [
            "100%|██████████| 15/15 [00:01<00:00, 13.07it/s]\n"
          ]
        },
        {
          "output_type": "stream",
          "name": "stdout",
          "text": [
            "Epoch 16/50, Loss: 0.2232893386057445\n"
          ]
        },
        {
          "output_type": "stream",
          "name": "stderr",
          "text": [
            "100%|██████████| 15/15 [00:01<00:00, 13.56it/s]\n"
          ]
        },
        {
          "output_type": "stream",
          "name": "stdout",
          "text": [
            "Epoch 17/50, Loss: 0.23631620770242034\n"
          ]
        },
        {
          "output_type": "stream",
          "name": "stderr",
          "text": [
            "100%|██████████| 15/15 [00:01<00:00, 13.30it/s]\n"
          ]
        },
        {
          "output_type": "stream",
          "name": "stdout",
          "text": [
            "Epoch 18/50, Loss: 0.22351706654083828\n"
          ]
        },
        {
          "output_type": "stream",
          "name": "stderr",
          "text": [
            "100%|██████████| 15/15 [00:01<00:00, 12.50it/s]\n"
          ]
        },
        {
          "output_type": "stream",
          "name": "stdout",
          "text": [
            "Epoch 19/50, Loss: 0.2979689457085954\n"
          ]
        },
        {
          "output_type": "stream",
          "name": "stderr",
          "text": [
            "100%|██████████| 15/15 [00:01<00:00, 12.73it/s]\n"
          ]
        },
        {
          "output_type": "stream",
          "name": "stdout",
          "text": [
            "Epoch 20/50, Loss: 0.2318054144622899\n"
          ]
        },
        {
          "output_type": "stream",
          "name": "stderr",
          "text": [
            "100%|██████████| 15/15 [00:01<00:00, 12.18it/s]\n"
          ]
        },
        {
          "output_type": "stream",
          "name": "stdout",
          "text": [
            "Epoch 21/50, Loss: 0.2387612296753571\n"
          ]
        },
        {
          "output_type": "stream",
          "name": "stderr",
          "text": [
            "100%|██████████| 15/15 [00:01<00:00, 12.29it/s]\n"
          ]
        },
        {
          "output_type": "stream",
          "name": "stdout",
          "text": [
            "Epoch 22/50, Loss: 0.22209445869221406\n"
          ]
        },
        {
          "output_type": "stream",
          "name": "stderr",
          "text": [
            "100%|██████████| 15/15 [00:01<00:00, 12.20it/s]\n"
          ]
        },
        {
          "output_type": "stream",
          "name": "stdout",
          "text": [
            "Epoch 23/50, Loss: 0.2022268097190296\n"
          ]
        },
        {
          "output_type": "stream",
          "name": "stderr",
          "text": [
            "100%|██████████| 15/15 [00:01<00:00, 13.03it/s]\n"
          ]
        },
        {
          "output_type": "stream",
          "name": "stdout",
          "text": [
            "Epoch 24/50, Loss: 0.22020697142897533\n"
          ]
        },
        {
          "output_type": "stream",
          "name": "stderr",
          "text": [
            "100%|██████████| 15/15 [00:01<00:00, 13.29it/s]\n"
          ]
        },
        {
          "output_type": "stream",
          "name": "stdout",
          "text": [
            "Epoch 25/50, Loss: 0.2224108648149907\n"
          ]
        },
        {
          "output_type": "stream",
          "name": "stderr",
          "text": [
            "100%|██████████| 15/15 [00:01<00:00, 13.27it/s]\n"
          ]
        },
        {
          "output_type": "stream",
          "name": "stdout",
          "text": [
            "Epoch 26/50, Loss: 0.1911214575046251\n"
          ]
        },
        {
          "output_type": "stream",
          "name": "stderr",
          "text": [
            "100%|██████████| 15/15 [00:01<00:00, 13.22it/s]\n"
          ]
        },
        {
          "output_type": "stream",
          "name": "stdout",
          "text": [
            "Epoch 27/50, Loss: 0.17856272153493738\n"
          ]
        },
        {
          "output_type": "stream",
          "name": "stderr",
          "text": [
            "100%|██████████| 15/15 [00:01<00:00, 13.14it/s]\n"
          ]
        },
        {
          "output_type": "stream",
          "name": "stdout",
          "text": [
            "Epoch 28/50, Loss: 0.18772354171055705\n"
          ]
        },
        {
          "output_type": "stream",
          "name": "stderr",
          "text": [
            "100%|██████████| 15/15 [00:01<00:00, 13.07it/s]\n"
          ]
        },
        {
          "output_type": "stream",
          "name": "stdout",
          "text": [
            "Epoch 29/50, Loss: 0.17533145118661286\n"
          ]
        },
        {
          "output_type": "stream",
          "name": "stderr",
          "text": [
            "100%|██████████| 15/15 [00:01<00:00, 13.00it/s]\n"
          ]
        },
        {
          "output_type": "stream",
          "name": "stdout",
          "text": [
            "Epoch 30/50, Loss: 0.17160600962258188\n"
          ]
        },
        {
          "output_type": "stream",
          "name": "stderr",
          "text": [
            "100%|██████████| 15/15 [00:01<00:00,  8.30it/s]\n"
          ]
        },
        {
          "output_type": "stream",
          "name": "stdout",
          "text": [
            "Epoch 31/50, Loss: 0.17470189240299352\n"
          ]
        },
        {
          "output_type": "stream",
          "name": "stderr",
          "text": [
            "100%|██████████| 15/15 [00:01<00:00,  9.10it/s]\n"
          ]
        },
        {
          "output_type": "stream",
          "name": "stdout",
          "text": [
            "Epoch 32/50, Loss: 0.16051694425214239\n"
          ]
        },
        {
          "output_type": "stream",
          "name": "stderr",
          "text": [
            "100%|██████████| 15/15 [00:01<00:00, 13.39it/s]\n"
          ]
        },
        {
          "output_type": "stream",
          "name": "stdout",
          "text": [
            "Epoch 33/50, Loss: 0.17569667626829708\n"
          ]
        },
        {
          "output_type": "stream",
          "name": "stderr",
          "text": [
            "100%|██████████| 15/15 [00:01<00:00, 13.39it/s]\n"
          ]
        },
        {
          "output_type": "stream",
          "name": "stdout",
          "text": [
            "Epoch 34/50, Loss: 0.16149836315327332\n"
          ]
        },
        {
          "output_type": "stream",
          "name": "stderr",
          "text": [
            "100%|██████████| 15/15 [00:01<00:00, 13.20it/s]\n"
          ]
        },
        {
          "output_type": "stream",
          "name": "stdout",
          "text": [
            "Epoch 35/50, Loss: 0.15299854033133564\n"
          ]
        },
        {
          "output_type": "stream",
          "name": "stderr",
          "text": [
            "100%|██████████| 15/15 [00:01<00:00, 13.16it/s]\n"
          ]
        },
        {
          "output_type": "stream",
          "name": "stdout",
          "text": [
            "Epoch 36/50, Loss: 0.14985842627136647\n"
          ]
        },
        {
          "output_type": "stream",
          "name": "stderr",
          "text": [
            "100%|██████████| 15/15 [00:01<00:00, 13.37it/s]\n"
          ]
        },
        {
          "output_type": "stream",
          "name": "stdout",
          "text": [
            "Epoch 37/50, Loss: 0.14773445507558455\n"
          ]
        },
        {
          "output_type": "stream",
          "name": "stderr",
          "text": [
            "100%|██████████| 15/15 [00:01<00:00, 13.02it/s]\n"
          ]
        },
        {
          "output_type": "stream",
          "name": "stdout",
          "text": [
            "Epoch 38/50, Loss: 0.15376435120065673\n"
          ]
        },
        {
          "output_type": "stream",
          "name": "stderr",
          "text": [
            "100%|██████████| 15/15 [00:01<00:00, 13.07it/s]\n"
          ]
        },
        {
          "output_type": "stream",
          "name": "stdout",
          "text": [
            "Epoch 39/50, Loss: 0.14354283256190165\n"
          ]
        },
        {
          "output_type": "stream",
          "name": "stderr",
          "text": [
            "100%|██████████| 15/15 [00:01<00:00, 13.45it/s]\n"
          ]
        },
        {
          "output_type": "stream",
          "name": "stdout",
          "text": [
            "Epoch 40/50, Loss: 0.14087797839100621\n"
          ]
        },
        {
          "output_type": "stream",
          "name": "stderr",
          "text": [
            "100%|██████████| 15/15 [00:01<00:00, 12.80it/s]\n"
          ]
        },
        {
          "output_type": "stream",
          "name": "stdout",
          "text": [
            "Epoch 41/50, Loss: 0.1328338352071137\n"
          ]
        },
        {
          "output_type": "stream",
          "name": "stderr",
          "text": [
            "100%|██████████| 15/15 [00:01<00:00, 12.74it/s]\n"
          ]
        },
        {
          "output_type": "stream",
          "name": "stdout",
          "text": [
            "Epoch 42/50, Loss: 0.13033185999433533\n"
          ]
        },
        {
          "output_type": "stream",
          "name": "stderr",
          "text": [
            "100%|██████████| 15/15 [00:01<00:00, 12.69it/s]\n"
          ]
        },
        {
          "output_type": "stream",
          "name": "stdout",
          "text": [
            "Epoch 43/50, Loss: 0.13070504442483438\n"
          ]
        },
        {
          "output_type": "stream",
          "name": "stderr",
          "text": [
            "100%|██████████| 15/15 [00:01<00:00, 13.02it/s]\n"
          ]
        },
        {
          "output_type": "stream",
          "name": "stdout",
          "text": [
            "Epoch 44/50, Loss: 0.16267317683756852\n"
          ]
        },
        {
          "output_type": "stream",
          "name": "stderr",
          "text": [
            "100%|██████████| 15/15 [00:01<00:00, 13.18it/s]\n"
          ]
        },
        {
          "output_type": "stream",
          "name": "stdout",
          "text": [
            "Epoch 45/50, Loss: 0.1470647455513978\n"
          ]
        },
        {
          "output_type": "stream",
          "name": "stderr",
          "text": [
            "100%|██████████| 15/15 [00:01<00:00, 13.30it/s]\n"
          ]
        },
        {
          "output_type": "stream",
          "name": "stdout",
          "text": [
            "Epoch 46/50, Loss: 0.1361772192000341\n"
          ]
        },
        {
          "output_type": "stream",
          "name": "stderr",
          "text": [
            "100%|██████████| 15/15 [00:01<00:00, 13.12it/s]\n"
          ]
        },
        {
          "output_type": "stream",
          "name": "stdout",
          "text": [
            "Epoch 47/50, Loss: 0.12471303443948761\n"
          ]
        },
        {
          "output_type": "stream",
          "name": "stderr",
          "text": [
            "100%|██████████| 15/15 [00:01<00:00, 13.17it/s]\n"
          ]
        },
        {
          "output_type": "stream",
          "name": "stdout",
          "text": [
            "Epoch 48/50, Loss: 0.1339624860957891\n"
          ]
        },
        {
          "output_type": "stream",
          "name": "stderr",
          "text": [
            "100%|██████████| 15/15 [00:01<00:00, 12.71it/s]\n"
          ]
        },
        {
          "output_type": "stream",
          "name": "stdout",
          "text": [
            "Epoch 49/50, Loss: 0.1310749193575202\n"
          ]
        },
        {
          "output_type": "stream",
          "name": "stderr",
          "text": [
            "100%|██████████| 15/15 [00:01<00:00, 11.26it/s]"
          ]
        },
        {
          "output_type": "stream",
          "name": "stdout",
          "text": [
            "Epoch 50/50, Loss: 0.12452148138975896\n"
          ]
        },
        {
          "output_type": "stream",
          "name": "stderr",
          "text": [
            "\n"
          ]
        }
      ]
    },
    {
      "cell_type": "markdown",
      "source": [
        "###3. Testing and Evaluation:"
      ],
      "metadata": {
        "id": "3bsec_gYepxg"
      }
    },
    {
      "cell_type": "code",
      "source": [
        "# Evaluation\n",
        "\n",
        "device = torch.device('cuda' if torch.cuda.is_available() else 'cpu')\n",
        "\n",
        "images_test = images_test_tensor.permute(0,3,1,2).to(device)\n",
        "outputs = model_noskip(images_test).permute(0,2,3,1)\n",
        "\n",
        "segmented_maps = torch.argmax(outputs, dim = 3).to(torch.device('cpu'))\n",
        "segmented_maps = segmented_maps.numpy()\n",
        "\n",
        "actual_masks = torch.argmax(masks_test_tensor,dim=3)\n",
        "actual_masks = actual_masks.numpy()\n",
        "\n",
        "# Calculating per pixel accuracy\n",
        "per_pixel_accuracy = np.sum(actual_masks == segmented_maps)/(np.prod(actual_masks.shape))\n",
        "\n",
        "# Calculating mean IoU\n",
        "mean_iou_list =[]\n",
        "for i in range(len(segmented_maps)):\n",
        "  iou_list = []\n",
        "  for label in range(9):\n",
        "\n",
        "    actual = actual_masks[i]==label\n",
        "    segmented = segmented_maps[i]==label\n",
        "    intersection = segmented[actual==True]\n",
        "\n",
        "    union = np.sum(actual) + np.sum(segmented) - np.sum(intersection)\n",
        "\n",
        "    if union!=0:\n",
        "      iou = np.sum(intersection)/union\n",
        "      iou_list.append(iou)\n",
        "\n",
        "  mean_iou_list.append(np.mean(iou_list))\n",
        "\n",
        "print(f\"Per pixel accuracy is {per_pixel_accuracy}\")\n",
        "print(f\"Mean IoU is {np.mean(mean_iou_list)}\")"
      ],
      "metadata": {
        "colab": {
          "base_uri": "https://localhost:8080/"
        },
        "id": "yz3HKVcjYz2D",
        "outputId": "6ac44114-0a9a-41fa-b87f-7798a095331d"
      },
      "execution_count": null,
      "outputs": [
        {
          "output_type": "stream",
          "name": "stdout",
          "text": [
            "Per pixel accuracy is 0.92236328125\n",
            "Mean IoU is 0.20420327908070754\n"
          ]
        }
      ]
    },
    {
      "cell_type": "markdown",
      "source": [
        "###4. Display:"
      ],
      "metadata": {
        "id": "F78rxYa9fID6"
      }
    },
    {
      "cell_type": "code",
      "source": [
        "random_index=10\n",
        "\n",
        "sample_image = images_test_tensor[random_index]\n",
        "actual_mask = torch.argmax(masks_test_tensor[random_index], dim=2)\n",
        "\n",
        "segmented_mask = torch.argmax(model_noskip(sample_image.unsqueeze(0).permute(0,3,1,2).to(device)).permute(0,2,3,1).squeeze(0),dim=2).to(torch.device('cpu'))\n",
        "\n",
        "plt.figure(figsize = (10,10))\n",
        "\n",
        "plt.subplot(1,3,1)\n",
        "plt.imshow(sample_image)\n",
        "plt.title('Original Image')\n",
        "plt.axis('off')\n",
        "\n",
        "plt.subplot(1,3,2)\n",
        "plt.imshow(actual_mask, vmin=0, vmax=8)\n",
        "plt.title('GT Mask')\n",
        "plt.axis('off')\n",
        "\n",
        "plt.subplot(1,3,3)\n",
        "plt.imshow(segmented_mask, vmin=0, vmax=8)\n",
        "plt.title('Predicted Mask(no skip connection)')\n",
        "plt.axis('off')"
      ],
      "metadata": {
        "colab": {
          "base_uri": "https://localhost:8080/",
          "height": 304
        },
        "id": "kiEw_ZYSY5VB",
        "outputId": "8f26302e-589f-4f33-8e4e-c7151ebda0cb"
      },
      "execution_count": null,
      "outputs": [
        {
          "output_type": "execute_result",
          "data": {
            "text/plain": [
              "(-0.5, 223.5, 223.5, -0.5)"
            ]
          },
          "metadata": {},
          "execution_count": 20
        },
        {
          "output_type": "display_data",
          "data": {
            "text/plain": [
              "<Figure size 1000x1000 with 3 Axes>"
            ],
            "image/png": "[encoded data removed]"
          },
          "metadata": {}
        }
      ]
    },
    {
      "cell_type": "markdown",
      "source": [
        "## Comparison:"
      ],
      "metadata": {
        "id": "eV7UP38epbKv"
      }
    },
    {
      "cell_type": "code",
      "source": [
        "def plot_loss_values(loss_values_noskip, loss_values_skip):\n",
        "    plt.figure(figsize=(10, 5))\n",
        "    plt.plot(loss_values_noskip, label='No skip connection')\n",
        "    plt.plot(loss_values_skip, label='With skip connection')\n",
        "    plt.title('Loss values')\n",
        "    plt.xlabel('Epoch')\n",
        "    plt.ylabel('Loss')\n",
        "    plt.legend()\n",
        "    plt.show()\n",
        "\n",
        "\n",
        "plot_loss_values(loss_values_noskip, loss_values_skip)"
      ],
      "metadata": {
        "id": "kWB89jMJpdQ6",
        "colab": {
          "base_uri": "https://localhost:8080/",
          "height": 487
        },
        "outputId": "5e5e1329-4321-4719-eade-f436ead00f68"
      },
      "execution_count": null,
      "outputs": [
        {
          "output_type": "display_data",
          "data": {
            "text/plain": [
              "<Figure size 1000x500 with 1 Axes>"
            ],
            "image/png": "[encoded data removed]"
          },
          "metadata": {}
        }
      ]
    }
  ]
}