{
  "nbformat": 4,
  "nbformat_minor": 0,
  "metadata": {
    "colab": {
      "provenance": []
    },
    "kernelspec": {
      "name": "python3",
      "display_name": "Python 3"
    },
    "language_info": {
      "name": "python"
    }
  },
  "cells": [
    {
      "cell_type": "code",
      "execution_count": 59,
      "metadata": {
        "id": "Riz_5S17LaVg"
      },
      "outputs": [],
      "source": [
        "import tensorflow as tf\n",
        "from tensorflow.keras import datasets, layers, models\n",
        "import matplotlib.pyplot as plt\n",
        "import numpy as np\n",
        "import pickle\n",
        "import torch\n",
        "from sklearn.metrics import confusion_matrix,classification_report"
      ]
    },
    {
      "cell_type": "code",
      "source": [
        "def plotting(img):\n",
        "  plt.figure(figsize = (15,2))\n",
        "  plt.imshow(img)"
      ],
      "metadata": {
        "id": "Gnq_lR8tlKfo"
      },
      "execution_count": 60,
      "outputs": []
    },
    {
      "cell_type": "code",
      "source": [
        "def extract_preprocess(raw_data):\n",
        "\n",
        "  # data loading and reshaping\n",
        "  fo = open(raw_data, 'rb')\n",
        "  dict = pickle.load(fo, encoding ='bytes')\n",
        "  X = dict[b'data']\n",
        "  y = np.array(dict[b'labels'])\n",
        "  X = X.reshape(len(X),3,32,32).transpose(0,2,3,1)\n",
        "\n",
        "  fo.close()\n",
        "  return X,y"
      ],
      "metadata": {
        "id": "L7pfoAb4GTIh"
      },
      "execution_count": 61,
      "outputs": []
    },
    {
      "cell_type": "code",
      "source": [
        "data_batch = [\"/content/data_batch_1\",\"/content/data_batch_2\",\"/content/data_batch_3\"]\n",
        "test_data = \"/content/test_batch\"\n",
        "train_X = []\n",
        "train_y = []\n",
        "\n",
        "for i in data_batch:\n",
        "  X,y = extract_preprocess(i)\n",
        "  train_X.append(X)\n",
        "  train_y.append(y)\n",
        "\n",
        "val_X,val_y = extract_preprocess(test_data)"
      ],
      "metadata": {
        "id": "senySRboKu0V"
      },
      "execution_count": 62,
      "outputs": []
    },
    {
      "cell_type": "code",
      "source": [
        "testing_data = np.load('/content/test_additional.npy')\n",
        "testing_y = np.load('/content/labels.npy')\n"
      ],
      "metadata": {
        "id": "L_1t3QmN477_"
      },
      "execution_count": 63,
      "outputs": []
    },
    {
      "cell_type": "code",
      "source": [
        "# concat all trining data batches\n",
        "x_train = np.concatenate((train_X[0], train_X[1], train_X[2]), axis=0)\n",
        "y_train = np.concatenate((train_y[0], train_y[1], train_y[2]), axis=0)\n",
        "y_train.shape"
      ],
      "metadata": {
        "id": "6IbiXae6TUMH",
        "colab": {
          "base_uri": "https://localhost:8080/"
        },
        "outputId": "a9394661-9db0-48c0-e33c-7cb434227ce3"
      },
      "execution_count": 64,
      "outputs": [
        {
          "output_type": "execute_result",
          "data": {
            "text/plain": [
              "(30000,)"
            ]
          },
          "metadata": {},
          "execution_count": 64
        }
      ]
    },
    {
      "cell_type": "code",
      "source": [
        "#normalize all data\n",
        "x_train = x_train/255.\n",
        "testing_data = testing_data/255.\n",
        "val_X = val_X/255."
      ],
      "metadata": {
        "id": "afQhySHj6L5s"
      },
      "execution_count": 65,
      "outputs": []
    },
    {
      "cell_type": "code",
      "source": [
        "#checking if preprocessing done correctly\n",
        "plotting(train_X[0][0])"
      ],
      "metadata": {
        "id": "Yhpnan3_WoL8",
        "colab": {
          "base_uri": "https://localhost:8080/",
          "height": 217
        },
        "outputId": "09207f75-201f-41bc-d321-62702fc64c2f"
      },
      "execution_count": 66,
      "outputs": [
        {
          "output_type": "display_data",
          "data": {
            "text/plain": [
              "<Figure size 1500x200 with 1 Axes>"
            ],
            "image/png": "[encoded data removed]"
          },
          "metadata": {}
        }
      ]
    },
    {
      "cell_type": "code",
      "source": [
        "#finding unique classes\n",
        "labels = list(set(train_y[0]).union(set(train_y[1]).union(set(train_y[2]))))\n",
        "labels"
      ],
      "metadata": {
        "id": "D87LruZ_PrEZ",
        "colab": {
          "base_uri": "https://localhost:8080/"
        },
        "outputId": "44613bca-b061-42fc-d5a6-f837e2b4bb36"
      },
      "execution_count": 67,
      "outputs": [
        {
          "output_type": "execute_result",
          "data": {
            "text/plain": [
              "[0, 1, 2, 3, 4, 5, 6, 7, 8, 9]"
            ]
          },
          "metadata": {},
          "execution_count": 67
        }
      ]
    },
    {
      "cell_type": "code",
      "source": [
        "# Define the architecture of the CNN (sigmoid)\n",
        "def create_sigmoid_cnn(input_shape):\n",
        "    model_sigmoid = models.Sequential()\n",
        "    model_sigmoid.add(layers.Conv2D(32, (3, 3), activation='sigmoid', input_shape=input_shape))\n",
        "    model_sigmoid.add(layers.MaxPooling2D((2, 2)))\n",
        "    model_sigmoid.add(layers.Conv2D(64, (3, 3), activation='sigmoid'))\n",
        "    model_sigmoid.add(layers.MaxPooling2D((2, 2)))\n",
        "    model_sigmoid.add(layers.Flatten())\n",
        "    model_sigmoid.add(layers.Dense(64, activation='sigmoid'))\n",
        "    model_sigmoid.add(layers.Dense(10, activation='softmax'))\n",
        "    return model_sigmoid"
      ],
      "metadata": {
        "id": "dgnZhT-9XTiC"
      },
      "execution_count": 68,
      "outputs": []
    },
    {
      "cell_type": "code",
      "source": [
        "# Define the architecture of the CNN (relu)\n",
        "def create_relu_cnn(input_shape):\n",
        "    model_relu = models.Sequential()\n",
        "    model_relu.add(layers.Conv2D(64, (3, 3), activation='relu', input_shape=input_shape))\n",
        "    model_relu.add(layers.MaxPooling2D((2, 2)))\n",
        "    model_relu.add(layers.Conv2D(64, (3, 3), activation='relu'))\n",
        "    model_relu.add(layers.MaxPooling2D((2, 2)))\n",
        "    model_relu.add(layers.Flatten())\n",
        "    model_relu.add(layers.Dense(64, activation='relu'))\n",
        "    model_relu.add(layers.Dense(10, activation='softmax'))\n",
        "    return model_relu"
      ],
      "metadata": {
        "id": "7Ppz_4XfLF80"
      },
      "execution_count": 69,
      "outputs": []
    },
    {
      "cell_type": "code",
      "source": [
        "model_relu = create_relu_cnn(input_shape=x_train[0].shape)\n",
        "model_sigmoid = create_sigmoid_cnn(input_shape=x_train[0].shape)\n"
      ],
      "metadata": {
        "id": "3rvQzYYNXWBi"
      },
      "execution_count": 70,
      "outputs": []
    },
    {
      "cell_type": "code",
      "source": [
        "# Compile the sigmoid CNN\n",
        "model_sigmoid.compile(optimizer='adam',\n",
        "              loss='sparse_categorical_crossentropy',\n",
        "              metrics=['accuracy'])\n",
        "\n",
        "# Compile the relu CNN\n",
        "model_relu.compile(optimizer='adam',\n",
        "              loss='sparse_categorical_crossentropy',\n",
        "              metrics=['accuracy'])"
      ],
      "metadata": {
        "id": "uhPRIn0GXyAm"
      },
      "execution_count": 71,
      "outputs": []
    },
    {
      "cell_type": "code",
      "source": [
        "model_relu.fit(x_train, y_train, epochs=15, batch_size=64, validation_data=(val_X, val_y))"
      ],
      "metadata": {
        "id": "2iVEzzbOXjTS",
        "colab": {
          "base_uri": "https://localhost:8080/"
        },
        "outputId": "32425104-2e7c-4b87-bff6-2377e8a21aeb"
      },
      "execution_count": 72,
      "outputs": [
        {
          "output_type": "stream",
          "name": "stdout",
          "text": [
            "Epoch 1/15\n",
            "469/469 [==============================] - 56s 116ms/step - loss: 1.6403 - accuracy: 0.4039 - val_loss: 1.3521 - val_accuracy: 0.5220\n",
            "Epoch 2/15\n",
            "469/469 [==============================] - 54s 115ms/step - loss: 1.2772 - accuracy: 0.5489 - val_loss: 1.2864 - val_accuracy: 0.5551\n",
            "Epoch 3/15\n",
            "469/469 [==============================] - 55s 117ms/step - loss: 1.1380 - accuracy: 0.6004 - val_loss: 1.1159 - val_accuracy: 0.6090\n",
            "Epoch 4/15\n",
            "469/469 [==============================] - 55s 118ms/step - loss: 1.0462 - accuracy: 0.6347 - val_loss: 1.0422 - val_accuracy: 0.6454\n",
            "Epoch 5/15\n",
            "469/469 [==============================] - 54s 115ms/step - loss: 0.9882 - accuracy: 0.6549 - val_loss: 1.0315 - val_accuracy: 0.6452\n",
            "Epoch 6/15\n",
            "469/469 [==============================] - 55s 117ms/step - loss: 0.9371 - accuracy: 0.6744 - val_loss: 1.0405 - val_accuracy: 0.6408\n",
            "Epoch 7/15\n",
            "469/469 [==============================] - 54s 115ms/step - loss: 0.8936 - accuracy: 0.6903 - val_loss: 1.0173 - val_accuracy: 0.6501\n",
            "Epoch 8/15\n",
            "469/469 [==============================] - 55s 117ms/step - loss: 0.8474 - accuracy: 0.7053 - val_loss: 1.0270 - val_accuracy: 0.6540\n",
            "Epoch 9/15\n",
            "469/469 [==============================] - 54s 116ms/step - loss: 0.8192 - accuracy: 0.7153 - val_loss: 0.9883 - val_accuracy: 0.6620\n",
            "Epoch 10/15\n",
            "469/469 [==============================] - 54s 114ms/step - loss: 0.7810 - accuracy: 0.7293 - val_loss: 1.0396 - val_accuracy: 0.6498\n",
            "Epoch 11/15\n",
            "469/469 [==============================] - 54s 114ms/step - loss: 0.7537 - accuracy: 0.7389 - val_loss: 0.9957 - val_accuracy: 0.6557\n",
            "Epoch 12/15\n",
            "469/469 [==============================] - 57s 122ms/step - loss: 0.7097 - accuracy: 0.7522 - val_loss: 1.0209 - val_accuracy: 0.6640\n",
            "Epoch 13/15\n",
            "469/469 [==============================] - 57s 122ms/step - loss: 0.6774 - accuracy: 0.7622 - val_loss: 0.9883 - val_accuracy: 0.6780\n",
            "Epoch 14/15\n",
            "469/469 [==============================] - 55s 117ms/step - loss: 0.6564 - accuracy: 0.7700 - val_loss: 1.0259 - val_accuracy: 0.6689\n",
            "Epoch 15/15\n",
            "469/469 [==============================] - 53s 114ms/step - loss: 0.6325 - accuracy: 0.7777 - val_loss: 1.0247 - val_accuracy: 0.6670\n"
          ]
        },
        {
          "output_type": "execute_result",
          "data": {
            "text/plain": [
              "<keras.src.callbacks.History at 0x7c24926217b0>"
            ]
          },
          "metadata": {},
          "execution_count": 72
        }
      ]
    },
    {
      "cell_type": "code",
      "source": [
        "model_sigmoid.fit(x_train, y_train, epochs=15, batch_size=32, validation_data=(val_X, val_y))"
      ],
      "metadata": {
        "id": "oKva5T-q5gQ-",
        "colab": {
          "base_uri": "https://localhost:8080/"
        },
        "outputId": "02b3a8c8-9dc1-42ac-a3d7-d48c72d6f0b8"
      },
      "execution_count": 73,
      "outputs": [
        {
          "output_type": "stream",
          "name": "stdout",
          "text": [
            "Epoch 1/15\n",
            "938/938 [==============================] - 39s 41ms/step - loss: 2.1138 - accuracy: 0.2174 - val_loss: 1.9413 - val_accuracy: 0.3195\n",
            "Epoch 2/15\n",
            "938/938 [==============================] - 36s 39ms/step - loss: 1.8860 - accuracy: 0.3188 - val_loss: 1.8213 - val_accuracy: 0.3464\n",
            "Epoch 3/15\n",
            "938/938 [==============================] - 36s 39ms/step - loss: 1.7546 - accuracy: 0.3718 - val_loss: 1.6992 - val_accuracy: 0.3953\n",
            "Epoch 4/15\n",
            "938/938 [==============================] - 36s 39ms/step - loss: 1.6652 - accuracy: 0.4020 - val_loss: 1.6475 - val_accuracy: 0.4055\n",
            "Epoch 5/15\n",
            "938/938 [==============================] - 38s 40ms/step - loss: 1.5925 - accuracy: 0.4273 - val_loss: 1.5751 - val_accuracy: 0.4285\n",
            "Epoch 6/15\n",
            "938/938 [==============================] - 37s 39ms/step - loss: 1.5306 - accuracy: 0.4494 - val_loss: 1.5106 - val_accuracy: 0.4542\n",
            "Epoch 7/15\n",
            "938/938 [==============================] - 38s 41ms/step - loss: 1.4787 - accuracy: 0.4698 - val_loss: 1.4931 - val_accuracy: 0.4635\n",
            "Epoch 8/15\n",
            "938/938 [==============================] - 37s 40ms/step - loss: 1.4337 - accuracy: 0.4852 - val_loss: 1.4192 - val_accuracy: 0.4863\n",
            "Epoch 9/15\n",
            "938/938 [==============================] - 37s 39ms/step - loss: 1.3801 - accuracy: 0.5058 - val_loss: 1.4042 - val_accuracy: 0.4889\n",
            "Epoch 10/15\n",
            "938/938 [==============================] - 38s 41ms/step - loss: 1.3343 - accuracy: 0.5245 - val_loss: 1.3673 - val_accuracy: 0.5039\n",
            "Epoch 11/15\n",
            "938/938 [==============================] - 37s 39ms/step - loss: 1.2986 - accuracy: 0.5361 - val_loss: 1.3403 - val_accuracy: 0.5173\n",
            "Epoch 12/15\n",
            "938/938 [==============================] - 40s 43ms/step - loss: 1.2579 - accuracy: 0.5514 - val_loss: 1.3213 - val_accuracy: 0.5161\n",
            "Epoch 13/15\n",
            "938/938 [==============================] - 39s 41ms/step - loss: 1.2215 - accuracy: 0.5637 - val_loss: 1.3211 - val_accuracy: 0.5245\n",
            "Epoch 14/15\n",
            "938/938 [==============================] - 43s 46ms/step - loss: 1.1829 - accuracy: 0.5785 - val_loss: 1.2875 - val_accuracy: 0.5386\n",
            "Epoch 15/15\n",
            "938/938 [==============================] - 38s 41ms/step - loss: 1.1552 - accuracy: 0.5906 - val_loss: 1.2960 - val_accuracy: 0.5376\n"
          ]
        },
        {
          "output_type": "execute_result",
          "data": {
            "text/plain": [
              "<keras.src.callbacks.History at 0x7c249245bf40>"
            ]
          },
          "metadata": {},
          "execution_count": 73
        }
      ]
    },
    {
      "cell_type": "code",
      "source": [
        "predictions_sigmoid = model_sigmoid.predict(testing_data)\n",
        "predicted_classes_sigmoid = np.argmax(predictions_sigmoid, axis=1)\n"
      ],
      "metadata": {
        "colab": {
          "base_uri": "https://localhost:8080/"
        },
        "id": "msm65IEb7We3",
        "outputId": "ce84c68a-8af0-4dbc-f384-2983af4cae52"
      },
      "execution_count": 83,
      "outputs": [
        {
          "output_type": "stream",
          "name": "stdout",
          "text": [
            "313/313 [==============================] - 3s 10ms/step\n"
          ]
        }
      ]
    },
    {
      "cell_type": "code",
      "source": [
        "conf_matrix = confusion_matrix(testing_y, predicted_classes_sigmoid)\n",
        "conf_matrix"
      ],
      "metadata": {
        "colab": {
          "base_uri": "https://localhost:8080/"
        },
        "id": "G9Fu_ZtFEyhf",
        "outputId": "2727ec24-bfaf-41ac-a34c-9dd6cb212b2a"
      },
      "execution_count": 85,
      "outputs": [
        {
          "output_type": "execute_result",
          "data": {
            "text/plain": [
              "array([[659,  58,  36,  12,  15,  13,  17,  16, 104,  70],\n",
              "       [ 34, 734,   6,   4,   4,  11,  10,  10,  35, 152],\n",
              "       [ 96,  25, 365,  66,  81, 114, 109,  79,  22,  43],\n",
              "       [ 43,  23,  55, 276,  32, 279, 117,  83,  22,  70],\n",
              "       [ 61,  18, 144,  42, 319,  92, 132, 151,  16,  25],\n",
              "       [ 23,  14,  60, 142,  32, 521,  51,  99,  21,  37],\n",
              "       [ 17,  18,  59,  59,  56,  59, 634,  40,  13,  45],\n",
              "       [ 47,  17,  30,  45,  31, 102,  18, 618,  12,  80],\n",
              "       [167, 119,   8,  11,   3,  18,  14,   8, 575,  77],\n",
              "       [ 57, 205,   7,  12,   3,  12,  17,  27,  49, 611]])"
            ]
          },
          "metadata": {},
          "execution_count": 85
        }
      ]
    },
    {
      "cell_type": "code",
      "source": [
        "# Generate classification report for model_sigmoid\n",
        "print(\"Classification Report for model_sigmoid:\")\n",
        "print(classification_report(testing_y, predicted_classes))\n"
      ],
      "metadata": {
        "colab": {
          "base_uri": "https://localhost:8080/"
        },
        "id": "GmTwTRBB782L",
        "outputId": "1b6251a9-295f-493a-bbe5-c5f323a0b983"
      },
      "execution_count": 76,
      "outputs": [
        {
          "output_type": "stream",
          "name": "stdout",
          "text": [
            "Classification Report for model_sigmoid:\n",
            "              precision    recall  f1-score   support\n",
            "\n",
            "           0       0.55      0.66      0.60      1000\n",
            "           1       0.60      0.73      0.66      1000\n",
            "           2       0.47      0.36      0.41      1000\n",
            "           3       0.41      0.28      0.33      1000\n",
            "           4       0.55      0.32      0.40      1000\n",
            "           5       0.43      0.52      0.47      1000\n",
            "           6       0.57      0.63      0.60      1000\n",
            "           7       0.55      0.62      0.58      1000\n",
            "           8       0.66      0.57      0.62      1000\n",
            "           9       0.50      0.61      0.55      1000\n",
            "\n",
            "    accuracy                           0.53     10000\n",
            "   macro avg       0.53      0.53      0.52     10000\n",
            "weighted avg       0.53      0.53      0.52     10000\n",
            "\n"
          ]
        }
      ]
    },
    {
      "cell_type": "code",
      "source": [
        "# model_relu.evaluate(testing_data,testing_y)"
      ],
      "metadata": {
        "id": "edf5S7xGWtxP"
      },
      "execution_count": 77,
      "outputs": []
    },
    {
      "cell_type": "code",
      "source": [
        "predictions_relu = model_relu.predict(testing_data)\n",
        "predicted_classes_relu = np.argmax(predictions_relu, axis=1)\n"
      ],
      "metadata": {
        "colab": {
          "base_uri": "https://localhost:8080/"
        },
        "id": "BpGN9Rjf6z9W",
        "outputId": "1eb80416-82da-4a05-c4b1-7a656ae210dd"
      },
      "execution_count": 78,
      "outputs": [
        {
          "output_type": "stream",
          "name": "stdout",
          "text": [
            "313/313 [==============================] - 5s 15ms/step\n"
          ]
        }
      ]
    },
    {
      "cell_type": "code",
      "source": [
        "conf_matrix_relu = confusion_matrix(testing_y, predicted_classes_relu)\n",
        "conf_matrix_relu"
      ],
      "metadata": {
        "colab": {
          "base_uri": "https://localhost:8080/"
        },
        "id": "kwBYXlFCFvjZ",
        "outputId": "400a155f-a7a9-40a5-e832-ace6d095a933"
      },
      "execution_count": 81,
      "outputs": [
        {
          "output_type": "execute_result",
          "data": {
            "text/plain": [
              "array([[593,  56,  38,  10,  75,   6,  59,  22,  89,  52],\n",
              "       [ 13, 810,   1,   4,   5,   7,  23,   5,  17, 115],\n",
              "       [ 57,  20, 238,  33, 111,  92, 361,  46,  17,  25],\n",
              "       [ 20,  21,  35, 233,  79, 204, 302,  53,  23,  30],\n",
              "       [ 17,  15,  21,  14, 473,  34, 353,  52,  12,   9],\n",
              "       [ 11,   5,  30,  75,  53, 551, 177,  64,  12,  22],\n",
              "       [  5,  11,   9,  13,   6,  14, 923,   8,   0,  11],\n",
              "       [ 23,  15,  19,  13,  82,  74,  64, 663,   4,  43],\n",
              "       [ 88,  80,   5,   7,  42,  15,  37,  13, 656,  57],\n",
              "       [ 22, 142,   5,   4,   8,   9,  34,  17,  26, 733]])"
            ]
          },
          "metadata": {},
          "execution_count": 81
        }
      ]
    },
    {
      "cell_type": "code",
      "source": [
        "# Generate classification report for model_relu\n",
        "print(\"Classification Report for model_relu:\")\n",
        "print(classification_report(testing_y, predicted_classes_relu))"
      ],
      "metadata": {
        "colab": {
          "base_uri": "https://localhost:8080/"
        },
        "id": "KprMZSFA7huQ",
        "outputId": "ae833332-5445-41bf-aed8-8c9e714ae519"
      },
      "execution_count": 80,
      "outputs": [
        {
          "output_type": "stream",
          "name": "stdout",
          "text": [
            "Classification Report for model_relu:\n",
            "              precision    recall  f1-score   support\n",
            "\n",
            "           0       0.70      0.59      0.64      1000\n",
            "           1       0.69      0.81      0.74      1000\n",
            "           2       0.59      0.24      0.34      1000\n",
            "           3       0.57      0.23      0.33      1000\n",
            "           4       0.51      0.47      0.49      1000\n",
            "           5       0.55      0.55      0.55      1000\n",
            "           6       0.40      0.92      0.55      1000\n",
            "           7       0.70      0.66      0.68      1000\n",
            "           8       0.77      0.66      0.71      1000\n",
            "           9       0.67      0.73      0.70      1000\n",
            "\n",
            "    accuracy                           0.59     10000\n",
            "   macro avg       0.61      0.59      0.57     10000\n",
            "weighted avg       0.61      0.59      0.57     10000\n",
            "\n"
          ]
        }
      ]
    }
  ]
}